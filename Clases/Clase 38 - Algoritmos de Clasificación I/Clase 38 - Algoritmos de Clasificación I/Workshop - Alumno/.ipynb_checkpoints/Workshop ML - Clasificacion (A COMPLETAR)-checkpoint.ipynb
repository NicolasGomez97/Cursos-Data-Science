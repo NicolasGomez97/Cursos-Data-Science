{
 "cells": [
  {
   "cell_type": "code",
   "execution_count": 1,
   "metadata": {},
   "outputs": [
    {
     "name": "stdout",
     "output_type": "stream",
     "text": [
      "# packages in environment at /home/nicolas/miniconda3:\n",
      "#\n",
      "# Name                    Version                   Build  Channel\n",
      "_libgcc_mutex             0.1                        main  \n",
      "_openmp_mutex             4.5                       1_gnu  \n",
      "argon2-cffi               20.1.0           py38h27cfd23_1  \n",
      "async_generator           1.10               pyhd3eb1b0_0  \n",
      "attrs                     21.4.0             pyhd3eb1b0_0  \n",
      "backcall                  0.2.0              pyhd3eb1b0_0  \n",
      "bleach                    4.1.0              pyhd3eb1b0_0  \n",
      "brotlipy                  0.7.0           py38h27cfd23_1003  \n",
      "ca-certificates           2021.10.26           h06a4308_2  \n",
      "certifi                   2021.10.8        py38h06a4308_2  \n",
      "cffi                      1.15.0           py38hd667e15_1  \n",
      "charset-normalizer        2.0.4              pyhd3eb1b0_0  \n",
      "conda                     4.11.0           py38h06a4308_0  \n",
      "conda-package-handling    1.7.3            py38h27cfd23_1  \n",
      "cryptography              36.0.0           py38h9ce1e76_0  \n",
      "dbus                      1.13.18              hb2f20db_0  \n",
      "debugpy                   1.5.1            py38h295c915_0  \n",
      "decorator                 5.1.0              pyhd3eb1b0_0  \n",
      "defusedxml                0.7.1              pyhd3eb1b0_0  \n",
      "entrypoints               0.3                      py38_0  \n",
      "expat                     2.4.1                h2531618_2  \n",
      "fontconfig                2.13.1               h6c09931_0  \n",
      "freetype                  2.11.0               h70c0345_0  \n",
      "glib                      2.69.1               h4ff587b_1  \n",
      "gst-plugins-base          1.14.0               h8213a91_2  \n",
      "gstreamer                 1.14.0               h28cd5cc_2  \n",
      "icu                       58.2                 he6710b0_3  \n",
      "idna                      3.3                pyhd3eb1b0_0  \n",
      "importlib-metadata        4.8.2            py38h06a4308_0  \n",
      "importlib_metadata        4.8.2                hd3eb1b0_0  \n",
      "ipykernel                 6.4.1            py38h06a4308_1  \n",
      "ipython                   7.29.0           py38hb070fc8_0  \n",
      "ipython_genutils          0.2.0              pyhd3eb1b0_1  \n",
      "ipywidgets                7.6.5              pyhd3eb1b0_1  \n",
      "jedi                      0.18.0           py38h06a4308_1  \n",
      "jinja2                    3.0.2              pyhd3eb1b0_0  \n",
      "jpeg                      9d                   h7f8727e_0  \n",
      "jsonschema                3.2.0              pyhd3eb1b0_2  \n",
      "jupyter                   1.0.0                    py38_7  \n",
      "jupyter_client            7.1.0              pyhd3eb1b0_0  \n",
      "jupyter_console           6.4.0              pyhd3eb1b0_0  \n",
      "jupyter_core              4.9.1            py38h06a4308_0  \n",
      "jupyterlab_pygments       0.1.2                      py_0  \n",
      "jupyterlab_widgets        1.0.0              pyhd3eb1b0_1  \n",
      "ld_impl_linux-64          2.35.1               h7274673_9  \n",
      "libffi                    3.3                  he6710b0_2  \n",
      "libgcc-ng                 9.3.0               h5101ec6_17  \n",
      "libgomp                   9.3.0               h5101ec6_17  \n",
      "libpng                    1.6.37               hbc83047_0  \n",
      "libsodium                 1.0.18               h7b6447c_0  \n",
      "libstdcxx-ng              9.3.0               hd4cf53a_17  \n",
      "libuuid                   1.0.3                h7f8727e_2  \n",
      "libxcb                    1.14                 h7b6447c_0  \n",
      "libxml2                   2.9.12               h03d6c58_0  \n",
      "markupsafe                2.0.1            py38h27cfd23_0  \n",
      "matplotlib-inline         0.1.2              pyhd3eb1b0_2  \n",
      "mistune                   0.8.4           py38h7b6447c_1000  \n",
      "nbclient                  0.5.3              pyhd3eb1b0_0  \n",
      "nbconvert                 6.3.0            py38h06a4308_0  \n",
      "nbformat                  5.1.3              pyhd3eb1b0_0  \n",
      "ncurses                   6.3                  h7f8727e_2  \n",
      "nest-asyncio              1.5.1              pyhd3eb1b0_0  \n",
      "notebook                  6.4.6            py38h06a4308_0  \n",
      "openssl                   1.1.1m               h7f8727e_0  \n",
      "packaging                 21.3               pyhd3eb1b0_0  \n",
      "pandocfilters             1.4.3            py38h06a4308_1  \n",
      "parso                     0.8.3              pyhd3eb1b0_0  \n",
      "pcre                      8.45                 h295c915_0  \n",
      "pexpect                   4.8.0              pyhd3eb1b0_3  \n",
      "pickleshare               0.7.5           pyhd3eb1b0_1003  \n",
      "prometheus_client         0.12.0             pyhd3eb1b0_0  \n",
      "prompt-toolkit            3.0.20             pyhd3eb1b0_0  \n",
      "prompt_toolkit            3.0.20               hd3eb1b0_0  \n",
      "ptyprocess                0.7.0              pyhd3eb1b0_2  \n",
      "pycosat                   0.6.3            py38h7b6447c_1  \n",
      "pycparser                 2.21               pyhd3eb1b0_0  \n",
      "pygments                  2.10.0             pyhd3eb1b0_0  \n",
      "pyopenssl                 21.0.0             pyhd3eb1b0_1  \n",
      "pyparsing                 3.0.4              pyhd3eb1b0_0  \n",
      "pyqt                      5.9.2            py38h05f1152_4  \n",
      "pyrsistent                0.18.0           py38heee7806_0  \n",
      "pysocks                   1.7.1            py38h06a4308_0  \n",
      "python                    3.8.10               h12debd9_8  \n",
      "python-dateutil           2.8.2              pyhd3eb1b0_0  \n",
      "pyzmq                     22.3.0           py38h295c915_2  \n",
      "qt                        5.9.7                h5867ecd_1  \n",
      "qtconsole                 5.1.1              pyhd3eb1b0_0  \n",
      "qtpy                      1.10.0             pyhd3eb1b0_0  \n",
      "readline                  8.1.2                h7f8727e_1  \n",
      "requests                  2.27.1             pyhd3eb1b0_0  \n",
      "ruamel_yaml               0.15.100         py38h27cfd23_0  \n",
      "send2trash                1.8.0              pyhd3eb1b0_1  \n",
      "setuptools                58.0.4           py38h06a4308_0  \n",
      "sip                       4.19.13          py38he6710b0_0  \n",
      "six                       1.16.0             pyhd3eb1b0_0  \n",
      "sqlite                    3.37.0               hc218d9a_0  \n",
      "terminado                 0.9.4            py38h06a4308_0  \n",
      "testpath                  0.5.0              pyhd3eb1b0_0  \n",
      "tk                        8.6.11               h1ccaba5_0  \n",
      "tornado                   6.1              py38h27cfd23_0  \n",
      "tqdm                      4.62.3             pyhd3eb1b0_1  \n",
      "traitlets                 5.1.1              pyhd3eb1b0_0  \n",
      "urllib3                   1.26.7             pyhd3eb1b0_0  \n",
      "wcwidth                   0.2.5              pyhd3eb1b0_0  \n",
      "webencodings              0.5.1                    py38_1  \n",
      "widgetsnbextension        3.5.1                    py38_0  \n",
      "xz                        5.2.5                h7b6447c_0  \n",
      "yaml                      0.2.5                h7b6447c_0  \n",
      "zeromq                    4.3.4                h2531618_0  \n",
      "zipp                      3.7.0              pyhd3eb1b0_0  \n",
      "zlib                      1.2.11               h7f8727e_4  \n",
      "\n",
      "Note: you may need to restart the kernel to use updated packages.\n"
     ]
    }
   ],
   "source": [
    "!conda install numpy as np\n",
    "!conda install pandas as pd\n",
    "from matplotlib import pyplot as plt\n",
    "import seaborn as sns\n",
    "import pandas_profiling"
   ]
  },
  {
   "cell_type": "markdown",
   "metadata": {},
   "source": [
    "### WorkShop: Árbol de Decisión modelo de Clasificación en Scikit-Learn - Titanic\n",
    "\n",
    "**Resolución**: EDA (Análisis Exploratorio de Datos)"
   ]
  },
  {
   "cell_type": "markdown",
   "metadata": {},
   "source": [
    "1. Importar las librerías necesarias para la realización del desafío y el dataset propuesto para la ejercitación."
   ]
  },
  {
   "cell_type": "code",
   "execution_count": 1,
   "metadata": {},
   "outputs": [],
   "source": [
    "###Completar"
   ]
  },
  {
   "cell_type": "markdown",
   "metadata": {},
   "source": [
    "2. Imprimir las 5 primeras filas del dataset."
   ]
  },
  {
   "cell_type": "code",
   "execution_count": 1,
   "metadata": {},
   "outputs": [],
   "source": [
    "###Completar"
   ]
  },
  {
   "cell_type": "markdown",
   "metadata": {},
   "source": [
    "3. Imprimir las 5 primeras últimas filas del dataset."
   ]
  },
  {
   "cell_type": "code",
   "execution_count": 2,
   "metadata": {},
   "outputs": [],
   "source": [
    "###Completar"
   ]
  },
  {
   "cell_type": "markdown",
   "metadata": {},
   "source": [
    "4. Imprimir las dimensiones del dataset."
   ]
  },
  {
   "cell_type": "code",
   "execution_count": 3,
   "metadata": {},
   "outputs": [],
   "source": [
    "###Completar"
   ]
  },
  {
   "cell_type": "markdown",
   "metadata": {},
   "source": [
    "5. Obtener la totalidad de registros por columnas"
   ]
  },
  {
   "cell_type": "code",
   "execution_count": 5,
   "metadata": {},
   "outputs": [],
   "source": [
    "###Completar"
   ]
  },
  {
   "cell_type": "markdown",
   "metadata": {},
   "source": [
    "6. Analizar el tipo de dato de cada columna"
   ]
  },
  {
   "cell_type": "code",
   "execution_count": 6,
   "metadata": {},
   "outputs": [],
   "source": [
    "###Completar"
   ]
  },
  {
   "cell_type": "markdown",
   "metadata": {},
   "source": [
    "7. Obtener el tipo de estructura del dataset"
   ]
  },
  {
   "cell_type": "code",
   "execution_count": 7,
   "metadata": {},
   "outputs": [],
   "source": [
    "###Completar"
   ]
  },
  {
   "cell_type": "markdown",
   "metadata": {},
   "source": [
    "8. Listar los nombres de las columnas"
   ]
  },
  {
   "cell_type": "code",
   "execution_count": 8,
   "metadata": {},
   "outputs": [],
   "source": [
    "###Completar"
   ]
  },
  {
   "cell_type": "markdown",
   "metadata": {},
   "source": [
    "**Resolución**: Machine Learning - Modelo de Clasificación"
   ]
  },
  {
   "cell_type": "markdown",
   "metadata": {},
   "source": [
    "9.\tSeparar los features en X e y"
   ]
  },
  {
   "cell_type": "code",
   "execution_count": 9,
   "metadata": {},
   "outputs": [],
   "source": [
    "###Completar"
   ]
  },
  {
   "cell_type": "markdown",
   "metadata": {},
   "source": [
    "10. Separar los datos en Train (70 %) y Test (30 %) con un random_state=42."
   ]
  },
  {
   "cell_type": "code",
   "execution_count": 10,
   "metadata": {},
   "outputs": [],
   "source": [
    "###Completar"
   ]
  },
  {
   "cell_type": "markdown",
   "metadata": {},
   "source": [
    "11.\tCrear un objeto de Árbol de Decisión para un modelo de clasificación, con un Nivel de Profundidad = 2 y una Semilla para la reproducibilidad = 42"
   ]
  },
  {
   "cell_type": "code",
   "execution_count": 11,
   "metadata": {},
   "outputs": [],
   "source": [
    "###Completar"
   ]
  },
  {
   "cell_type": "markdown",
   "metadata": {},
   "source": [
    "12.\tEntrenar el modelo creado"
   ]
  },
  {
   "cell_type": "code",
   "execution_count": 12,
   "metadata": {},
   "outputs": [],
   "source": [
    "###Completar"
   ]
  },
  {
   "cell_type": "markdown",
   "metadata": {},
   "source": [
    "13. Realizar la predicción del modelo en Train y Test"
   ]
  },
  {
   "cell_type": "code",
   "execution_count": 13,
   "metadata": {},
   "outputs": [],
   "source": [
    "###Completar"
   ]
  },
  {
   "cell_type": "markdown",
   "metadata": {},
   "source": [
    "14.\tCalcular la métrica de Accuracy en Train y Test "
   ]
  },
  {
   "cell_type": "code",
   "execution_count": 14,
   "metadata": {},
   "outputs": [],
   "source": [
    "###Completar"
   ]
  },
  {
   "cell_type": "markdown",
   "metadata": {},
   "source": [
    "15. Graficar las variables de importancia del Árbol de Decisión "
   ]
  },
  {
   "cell_type": "code",
   "execution_count": 14,
   "metadata": {},
   "outputs": [],
   "source": [
    "###Completar"
   ]
  }
 ],
 "metadata": {
  "kernelspec": {
   "display_name": "Python 3 (ipykernel)",
   "language": "python",
   "name": "python3"
  },
  "language_info": {
   "codemirror_mode": {
    "name": "ipython",
    "version": 3
   },
   "file_extension": ".py",
   "mimetype": "text/x-python",
   "name": "python",
   "nbconvert_exporter": "python",
   "pygments_lexer": "ipython3",
   "version": "3.8.10"
  },
  "varInspector": {
   "cols": {
    "lenName": 16,
    "lenType": 16,
    "lenVar": 40
   },
   "kernels_config": {
    "python": {
     "delete_cmd_postfix": "",
     "delete_cmd_prefix": "del ",
     "library": "var_list.py",
     "varRefreshCmd": "print(var_dic_list())"
    },
    "r": {
     "delete_cmd_postfix": ") ",
     "delete_cmd_prefix": "rm(",
     "library": "var_list.r",
     "varRefreshCmd": "cat(var_dic_list()) "
    }
   },
   "types_to_exclude": [
    "module",
    "function",
    "builtin_function_or_method",
    "instance",
    "_Feature"
   ],
   "window_display": false
  }
 },
 "nbformat": 4,
 "nbformat_minor": 4
}
