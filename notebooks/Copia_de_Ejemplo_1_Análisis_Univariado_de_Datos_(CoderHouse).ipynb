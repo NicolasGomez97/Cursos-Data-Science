{
  "cells": [
    {
      "cell_type": "markdown",
      "metadata": {
        "id": "itePLaJ85O7G"
      },
      "source": [
        "# Ejemplo 1"
      ]
    },
    {
      "cell_type": "code",
      "execution_count": 2,
      "metadata": {
        "id": "5SBIUxQ_5O7L"
      },
      "outputs": [],
      "source": [
        "#Importamos las librerias\n",
        "import pandas as pd\n",
        "import numpy as np\n",
        "import matplotlib.pyplot as plt\n",
        "import seaborn as sns\n",
        "from matplotlib.ticker import FormatStrFormatter"
      ]
    },
    {
      "cell_type": "code",
      "execution_count": 3,
      "metadata": {
        "colab": {
          "base_uri": "https://localhost:8080/",
          "height": 354
        },
        "id": "lgw58aC35O7M",
        "outputId": "ff6f30c7-3dac-4775-97cf-60d80dc5a42a"
      },
      "outputs": [
        {
          "output_type": "execute_result",
          "data": {
            "text/html": [
              "\n",
              "  <div id=\"df-fe84c1e9-61ed-45f9-82cc-126ae6112865\">\n",
              "    <div class=\"colab-df-container\">\n",
              "      <div>\n",
              "<style scoped>\n",
              "    .dataframe tbody tr th:only-of-type {\n",
              "        vertical-align: middle;\n",
              "    }\n",
              "\n",
              "    .dataframe tbody tr th {\n",
              "        vertical-align: top;\n",
              "    }\n",
              "\n",
              "    .dataframe thead th {\n",
              "        text-align: right;\n",
              "    }\n",
              "</style>\n",
              "<table border=\"1\" class=\"dataframe\">\n",
              "  <thead>\n",
              "    <tr style=\"text-align: right;\">\n",
              "      <th></th>\n",
              "      <th>Date</th>\n",
              "      <th>GOFO - 1 Month</th>\n",
              "      <th>GOFO - 2 Months</th>\n",
              "      <th>GOFO - 3 Months</th>\n",
              "      <th>GOFO - 6 Months</th>\n",
              "      <th>GOFO - 12 Months</th>\n",
              "      <th>LIBOR - 1 Month</th>\n",
              "      <th>LIBOR - 2 Months</th>\n",
              "      <th>LIBOR - 3 Months</th>\n",
              "      <th>LIBOR - 6 Months</th>\n",
              "      <th>LIBOR - 12 Months</th>\n",
              "      <th>LIBOR-GOFO - 1 Month</th>\n",
              "      <th>LIBOR-GOFO - 2 Months</th>\n",
              "      <th>LIBOR-GOFO - 3 Months</th>\n",
              "      <th>LIBOR-GOFO - 6 Months</th>\n",
              "      <th>LIBOR-GOFO - 12 Months</th>\n",
              "    </tr>\n",
              "  </thead>\n",
              "  <tbody>\n",
              "    <tr>\n",
              "      <th>0</th>\n",
              "      <td>2014-01-02</td>\n",
              "      <td>-0.02000</td>\n",
              "      <td>-0.00500</td>\n",
              "      <td>0.00667</td>\n",
              "      <td>0.06167</td>\n",
              "      <td>0.15833</td>\n",
              "      <td>0.1683</td>\n",
              "      <td>0.21250</td>\n",
              "      <td>0.24285</td>\n",
              "      <td>0.3464</td>\n",
              "      <td>0.5826</td>\n",
              "      <td>0.18830</td>\n",
              "      <td>0.21750</td>\n",
              "      <td>0.23618</td>\n",
              "      <td>0.28473</td>\n",
              "      <td>0.42427</td>\n",
              "    </tr>\n",
              "    <tr>\n",
              "      <th>1</th>\n",
              "      <td>2014-01-03</td>\n",
              "      <td>-0.01667</td>\n",
              "      <td>-0.00333</td>\n",
              "      <td>0.01000</td>\n",
              "      <td>0.06000</td>\n",
              "      <td>0.15667</td>\n",
              "      <td>0.1647</td>\n",
              "      <td>0.20995</td>\n",
              "      <td>0.23985</td>\n",
              "      <td>0.3452</td>\n",
              "      <td>0.5846</td>\n",
              "      <td>0.18137</td>\n",
              "      <td>0.21328</td>\n",
              "      <td>0.22985</td>\n",
              "      <td>0.28520</td>\n",
              "      <td>0.42793</td>\n",
              "    </tr>\n",
              "    <tr>\n",
              "      <th>2</th>\n",
              "      <td>2014-01-06</td>\n",
              "      <td>-0.02667</td>\n",
              "      <td>-0.00833</td>\n",
              "      <td>0.00667</td>\n",
              "      <td>0.05333</td>\n",
              "      <td>0.15657</td>\n",
              "      <td>0.1625</td>\n",
              "      <td>0.20825</td>\n",
              "      <td>0.23935</td>\n",
              "      <td>0.3445</td>\n",
              "      <td>0.5854</td>\n",
              "      <td>0.18917</td>\n",
              "      <td>0.21658</td>\n",
              "      <td>0.23268</td>\n",
              "      <td>0.29117</td>\n",
              "      <td>0.42883</td>\n",
              "    </tr>\n",
              "    <tr>\n",
              "      <th>3</th>\n",
              "      <td>2014-01-07</td>\n",
              "      <td>-0.03500</td>\n",
              "      <td>-0.01667</td>\n",
              "      <td>-0.00333</td>\n",
              "      <td>0.04667</td>\n",
              "      <td>0.15500</td>\n",
              "      <td>0.1615</td>\n",
              "      <td>0.20820</td>\n",
              "      <td>0.24210</td>\n",
              "      <td>0.3447</td>\n",
              "      <td>0.5866</td>\n",
              "      <td>0.19650</td>\n",
              "      <td>0.22487</td>\n",
              "      <td>0.24543</td>\n",
              "      <td>0.29803</td>\n",
              "      <td>0.43160</td>\n",
              "    </tr>\n",
              "    <tr>\n",
              "      <th>4</th>\n",
              "      <td>2014-01-08</td>\n",
              "      <td>-0.03000</td>\n",
              "      <td>-0.01167</td>\n",
              "      <td>-0.00167</td>\n",
              "      <td>0.04000</td>\n",
              "      <td>0.15500</td>\n",
              "      <td>0.1610</td>\n",
              "      <td>0.20750</td>\n",
              "      <td>0.24040</td>\n",
              "      <td>0.3452</td>\n",
              "      <td>0.5856</td>\n",
              "      <td>0.19100</td>\n",
              "      <td>0.21917</td>\n",
              "      <td>0.24207</td>\n",
              "      <td>0.30520</td>\n",
              "      <td>0.43060</td>\n",
              "    </tr>\n",
              "  </tbody>\n",
              "</table>\n",
              "</div>\n",
              "      <button class=\"colab-df-convert\" onclick=\"convertToInteractive('df-fe84c1e9-61ed-45f9-82cc-126ae6112865')\"\n",
              "              title=\"Convert this dataframe to an interactive table.\"\n",
              "              style=\"display:none;\">\n",
              "        \n",
              "  <svg xmlns=\"http://www.w3.org/2000/svg\" height=\"24px\"viewBox=\"0 0 24 24\"\n",
              "       width=\"24px\">\n",
              "    <path d=\"M0 0h24v24H0V0z\" fill=\"none\"/>\n",
              "    <path d=\"M18.56 5.44l.94 2.06.94-2.06 2.06-.94-2.06-.94-.94-2.06-.94 2.06-2.06.94zm-11 1L8.5 8.5l.94-2.06 2.06-.94-2.06-.94L8.5 2.5l-.94 2.06-2.06.94zm10 10l.94 2.06.94-2.06 2.06-.94-2.06-.94-.94-2.06-.94 2.06-2.06.94z\"/><path d=\"M17.41 7.96l-1.37-1.37c-.4-.4-.92-.59-1.43-.59-.52 0-1.04.2-1.43.59L10.3 9.45l-7.72 7.72c-.78.78-.78 2.05 0 2.83L4 21.41c.39.39.9.59 1.41.59.51 0 1.02-.2 1.41-.59l7.78-7.78 2.81-2.81c.8-.78.8-2.07 0-2.86zM5.41 20L4 18.59l7.72-7.72 1.47 1.35L5.41 20z\"/>\n",
              "  </svg>\n",
              "      </button>\n",
              "      \n",
              "  <style>\n",
              "    .colab-df-container {\n",
              "      display:flex;\n",
              "      flex-wrap:wrap;\n",
              "      gap: 12px;\n",
              "    }\n",
              "\n",
              "    .colab-df-convert {\n",
              "      background-color: #E8F0FE;\n",
              "      border: none;\n",
              "      border-radius: 50%;\n",
              "      cursor: pointer;\n",
              "      display: none;\n",
              "      fill: #1967D2;\n",
              "      height: 32px;\n",
              "      padding: 0 0 0 0;\n",
              "      width: 32px;\n",
              "    }\n",
              "\n",
              "    .colab-df-convert:hover {\n",
              "      background-color: #E2EBFA;\n",
              "      box-shadow: 0px 1px 2px rgba(60, 64, 67, 0.3), 0px 1px 3px 1px rgba(60, 64, 67, 0.15);\n",
              "      fill: #174EA6;\n",
              "    }\n",
              "\n",
              "    [theme=dark] .colab-df-convert {\n",
              "      background-color: #3B4455;\n",
              "      fill: #D2E3FC;\n",
              "    }\n",
              "\n",
              "    [theme=dark] .colab-df-convert:hover {\n",
              "      background-color: #434B5C;\n",
              "      box-shadow: 0px 1px 3px 1px rgba(0, 0, 0, 0.15);\n",
              "      filter: drop-shadow(0px 1px 2px rgba(0, 0, 0, 0.3));\n",
              "      fill: #FFFFFF;\n",
              "    }\n",
              "  </style>\n",
              "\n",
              "      <script>\n",
              "        const buttonEl =\n",
              "          document.querySelector('#df-fe84c1e9-61ed-45f9-82cc-126ae6112865 button.colab-df-convert');\n",
              "        buttonEl.style.display =\n",
              "          google.colab.kernel.accessAllowed ? 'block' : 'none';\n",
              "\n",
              "        async function convertToInteractive(key) {\n",
              "          const element = document.querySelector('#df-fe84c1e9-61ed-45f9-82cc-126ae6112865');\n",
              "          const dataTable =\n",
              "            await google.colab.kernel.invokeFunction('convertToInteractive',\n",
              "                                                     [key], {});\n",
              "          if (!dataTable) return;\n",
              "\n",
              "          const docLinkHtml = 'Like what you see? Visit the ' +\n",
              "            '<a target=\"_blank\" href=https://colab.research.google.com/notebooks/data_table.ipynb>data table notebook</a>'\n",
              "            + ' to learn more about interactive tables.';\n",
              "          element.innerHTML = '';\n",
              "          dataTable['output_type'] = 'display_data';\n",
              "          await google.colab.output.renderOutput(dataTable, element);\n",
              "          const docLink = document.createElement('div');\n",
              "          docLink.innerHTML = docLinkHtml;\n",
              "          element.appendChild(docLink);\n",
              "        }\n",
              "      </script>\n",
              "    </div>\n",
              "  </div>\n",
              "  "
            ],
            "text/plain": [
              "         Date  GOFO - 1 Month  ...  LIBOR-GOFO - 6 Months  LIBOR-GOFO - 12 Months\n",
              "0  2014-01-02        -0.02000  ...                0.28473                 0.42427\n",
              "1  2014-01-03        -0.01667  ...                0.28520                 0.42793\n",
              "2  2014-01-06        -0.02667  ...                0.29117                 0.42883\n",
              "3  2014-01-07        -0.03500  ...                0.29803                 0.43160\n",
              "4  2014-01-08        -0.03000  ...                0.30520                 0.43060\n",
              "\n",
              "[5 rows x 16 columns]"
            ]
          },
          "metadata": {},
          "execution_count": 3
        }
      ],
      "source": [
        "df = pd.read_csv('/content/Gold_Forward_Offered_Rates.csv')\n",
        "df.head()"
      ]
    },
    {
      "cell_type": "code",
      "execution_count": 4,
      "metadata": {
        "colab": {
          "base_uri": "https://localhost:8080/"
        },
        "id": "bSKieBqq5O7O",
        "outputId": "224187ea-15cf-442b-c288-445d8fc18899"
      },
      "outputs": [
        {
          "output_type": "execute_result",
          "data": {
            "text/plain": [
              "(274, 16)"
            ]
          },
          "metadata": {},
          "execution_count": 4
        }
      ],
      "source": [
        "#Empecemos viendo el shape de nuestro df\n",
        "df.shape"
      ]
    },
    {
      "cell_type": "code",
      "execution_count": 5,
      "metadata": {
        "colab": {
          "base_uri": "https://localhost:8080/"
        },
        "id": "kb-E9dKA5O7P",
        "outputId": "1231a4e8-4cdb-42eb-dc52-5bdd7e226d6d"
      },
      "outputs": [
        {
          "output_type": "execute_result",
          "data": {
            "text/plain": [
              "Date                       object\n",
              "GOFO - 1 Month            float64\n",
              "GOFO - 2 Months           float64\n",
              "GOFO - 3 Months           float64\n",
              "GOFO - 6 Months           float64\n",
              "GOFO - 12 Months          float64\n",
              "LIBOR - 1 Month           float64\n",
              "LIBOR - 2 Months          float64\n",
              "LIBOR - 3 Months          float64\n",
              "LIBOR - 6 Months          float64\n",
              "LIBOR - 12 Months         float64\n",
              "LIBOR-GOFO - 1 Month      float64\n",
              "LIBOR-GOFO - 2 Months     float64\n",
              "LIBOR-GOFO - 3 Months     float64\n",
              "LIBOR-GOFO - 6 Months     float64\n",
              "LIBOR-GOFO - 12 Months    float64\n",
              "dtype: object"
            ]
          },
          "metadata": {},
          "execution_count": 5
        }
      ],
      "source": [
        "#Tipos de datos\n",
        "df.dtypes"
      ]
    },
    {
      "cell_type": "code",
      "execution_count": 6,
      "metadata": {
        "colab": {
          "base_uri": "https://localhost:8080/"
        },
        "id": "-bZKKEeB5O7Q",
        "outputId": "8146bbc9-3a5b-4f10-a38e-fb59d788be77"
      },
      "outputs": [
        {
          "output_type": "execute_result",
          "data": {
            "text/plain": [
              "Date                      274\n",
              "GOFO - 1 Month            274\n",
              "GOFO - 2 Months           274\n",
              "GOFO - 3 Months           274\n",
              "GOFO - 6 Months           274\n",
              "GOFO - 12 Months          274\n",
              "LIBOR - 1 Month           273\n",
              "LIBOR - 2 Months          273\n",
              "LIBOR - 3 Months          273\n",
              "LIBOR - 6 Months          273\n",
              "LIBOR - 12 Months         273\n",
              "LIBOR-GOFO - 1 Month      272\n",
              "LIBOR-GOFO - 2 Months     272\n",
              "LIBOR-GOFO - 3 Months     272\n",
              "LIBOR-GOFO - 6 Months     272\n",
              "LIBOR-GOFO - 12 Months    272\n",
              "dtype: int64"
            ]
          },
          "metadata": {},
          "execution_count": 6
        }
      ],
      "source": [
        "#Totalidad de registros por columnas\n",
        "df.count()"
      ]
    },
    {
      "cell_type": "code",
      "execution_count": 7,
      "metadata": {
        "colab": {
          "base_uri": "https://localhost:8080/"
        },
        "id": "5I2cqP3R5O7R",
        "outputId": "41c2bd17-aa35-4665-a3b8-290ce110d1ad"
      },
      "outputs": [
        {
          "output_type": "stream",
          "name": "stdout",
          "text": [
            "<class 'pandas.core.frame.DataFrame'>\n",
            "RangeIndex: 274 entries, 0 to 273\n",
            "Data columns (total 16 columns):\n",
            " #   Column                  Non-Null Count  Dtype  \n",
            "---  ------                  --------------  -----  \n",
            " 0   Date                    274 non-null    object \n",
            " 1   GOFO - 1 Month          274 non-null    float64\n",
            " 2   GOFO - 2 Months         274 non-null    float64\n",
            " 3   GOFO - 3 Months         274 non-null    float64\n",
            " 4   GOFO - 6 Months         274 non-null    float64\n",
            " 5   GOFO - 12 Months        274 non-null    float64\n",
            " 6   LIBOR - 1 Month         273 non-null    float64\n",
            " 7   LIBOR - 2 Months        273 non-null    float64\n",
            " 8   LIBOR - 3 Months        273 non-null    float64\n",
            " 9   LIBOR - 6 Months        273 non-null    float64\n",
            " 10  LIBOR - 12 Months       273 non-null    float64\n",
            " 11  LIBOR-GOFO - 1 Month    272 non-null    float64\n",
            " 12  LIBOR-GOFO - 2 Months   272 non-null    float64\n",
            " 13  LIBOR-GOFO - 3 Months   272 non-null    float64\n",
            " 14  LIBOR-GOFO - 6 Months   272 non-null    float64\n",
            " 15  LIBOR-GOFO - 12 Months  272 non-null    float64\n",
            "dtypes: float64(15), object(1)\n",
            "memory usage: 34.4+ KB\n"
          ]
        }
      ],
      "source": [
        "#Veamos un poco mas de informacion\n",
        "df.info()"
      ]
    },
    {
      "cell_type": "code",
      "execution_count": 8,
      "metadata": {
        "colab": {
          "base_uri": "https://localhost:8080/",
          "height": 362
        },
        "id": "7yLcV9VJ5O7S",
        "outputId": "1b2f2969-f2fa-4123-eaf2-37b1d5c08635"
      },
      "outputs": [
        {
          "output_type": "execute_result",
          "data": {
            "text/html": [
              "\n",
              "  <div id=\"df-e2aa0ad6-251b-4e84-8696-abc95f6e9d18\">\n",
              "    <div class=\"colab-df-container\">\n",
              "      <div>\n",
              "<style scoped>\n",
              "    .dataframe tbody tr th:only-of-type {\n",
              "        vertical-align: middle;\n",
              "    }\n",
              "\n",
              "    .dataframe tbody tr th {\n",
              "        vertical-align: top;\n",
              "    }\n",
              "\n",
              "    .dataframe thead th {\n",
              "        text-align: right;\n",
              "    }\n",
              "</style>\n",
              "<table border=\"1\" class=\"dataframe\">\n",
              "  <thead>\n",
              "    <tr style=\"text-align: right;\">\n",
              "      <th></th>\n",
              "      <th>GOFO - 1 Month</th>\n",
              "      <th>GOFO - 2 Months</th>\n",
              "      <th>GOFO - 3 Months</th>\n",
              "      <th>GOFO - 6 Months</th>\n",
              "      <th>GOFO - 12 Months</th>\n",
              "      <th>LIBOR - 1 Month</th>\n",
              "      <th>LIBOR - 2 Months</th>\n",
              "      <th>LIBOR - 3 Months</th>\n",
              "      <th>LIBOR - 6 Months</th>\n",
              "      <th>LIBOR - 12 Months</th>\n",
              "      <th>LIBOR-GOFO - 1 Month</th>\n",
              "      <th>LIBOR-GOFO - 2 Months</th>\n",
              "      <th>LIBOR-GOFO - 3 Months</th>\n",
              "      <th>LIBOR-GOFO - 6 Months</th>\n",
              "      <th>LIBOR-GOFO - 12 Months</th>\n",
              "    </tr>\n",
              "  </thead>\n",
              "  <tbody>\n",
              "    <tr>\n",
              "      <th>count</th>\n",
              "      <td>274.000000</td>\n",
              "      <td>274.000000</td>\n",
              "      <td>274.000000</td>\n",
              "      <td>274.000000</td>\n",
              "      <td>274.000000</td>\n",
              "      <td>273.000000</td>\n",
              "      <td>273.000000</td>\n",
              "      <td>273.000000</td>\n",
              "      <td>273.000000</td>\n",
              "      <td>273.000000</td>\n",
              "      <td>272.000000</td>\n",
              "      <td>272.000000</td>\n",
              "      <td>272.000000</td>\n",
              "      <td>272.000000</td>\n",
              "      <td>272.000000</td>\n",
              "    </tr>\n",
              "    <tr>\n",
              "      <th>mean</th>\n",
              "      <td>0.008498</td>\n",
              "      <td>0.026322</td>\n",
              "      <td>0.043891</td>\n",
              "      <td>0.080606</td>\n",
              "      <td>0.150443</td>\n",
              "      <td>0.156120</td>\n",
              "      <td>0.198887</td>\n",
              "      <td>0.235376</td>\n",
              "      <td>0.331667</td>\n",
              "      <td>0.565206</td>\n",
              "      <td>0.147941</td>\n",
              "      <td>0.172890</td>\n",
              "      <td>0.191785</td>\n",
              "      <td>0.251305</td>\n",
              "      <td>0.414756</td>\n",
              "    </tr>\n",
              "    <tr>\n",
              "      <th>std</th>\n",
              "      <td>0.106263</td>\n",
              "      <td>0.089587</td>\n",
              "      <td>0.075174</td>\n",
              "      <td>0.054883</td>\n",
              "      <td>0.047777</td>\n",
              "      <td>0.005361</td>\n",
              "      <td>0.006858</td>\n",
              "      <td>0.007705</td>\n",
              "      <td>0.010328</td>\n",
              "      <td>0.024568</td>\n",
              "      <td>0.106562</td>\n",
              "      <td>0.090508</td>\n",
              "      <td>0.074778</td>\n",
              "      <td>0.055483</td>\n",
              "      <td>0.047982</td>\n",
              "    </tr>\n",
              "    <tr>\n",
              "      <th>min</th>\n",
              "      <td>-0.582500</td>\n",
              "      <td>-0.465000</td>\n",
              "      <td>-0.315000</td>\n",
              "      <td>-0.123330</td>\n",
              "      <td>0.006670</td>\n",
              "      <td>0.147750</td>\n",
              "      <td>0.189000</td>\n",
              "      <td>0.222850</td>\n",
              "      <td>0.319400</td>\n",
              "      <td>0.527430</td>\n",
              "      <td>0.001000</td>\n",
              "      <td>0.041000</td>\n",
              "      <td>0.078400</td>\n",
              "      <td>0.148800</td>\n",
              "      <td>0.320700</td>\n",
              "    </tr>\n",
              "    <tr>\n",
              "      <th>25%</th>\n",
              "      <td>-0.039500</td>\n",
              "      <td>-0.019167</td>\n",
              "      <td>0.000500</td>\n",
              "      <td>0.044250</td>\n",
              "      <td>0.122000</td>\n",
              "      <td>0.152500</td>\n",
              "      <td>0.194100</td>\n",
              "      <td>0.231350</td>\n",
              "      <td>0.325650</td>\n",
              "      <td>0.549500</td>\n",
              "      <td>0.075025</td>\n",
              "      <td>0.107125</td>\n",
              "      <td>0.133475</td>\n",
              "      <td>0.205900</td>\n",
              "      <td>0.376250</td>\n",
              "    </tr>\n",
              "    <tr>\n",
              "      <th>50%</th>\n",
              "      <td>0.030665</td>\n",
              "      <td>0.047085</td>\n",
              "      <td>0.058165</td>\n",
              "      <td>0.090000</td>\n",
              "      <td>0.149000</td>\n",
              "      <td>0.155000</td>\n",
              "      <td>0.197000</td>\n",
              "      <td>0.233600</td>\n",
              "      <td>0.328950</td>\n",
              "      <td>0.557200</td>\n",
              "      <td>0.128125</td>\n",
              "      <td>0.156500</td>\n",
              "      <td>0.182075</td>\n",
              "      <td>0.244450</td>\n",
              "      <td>0.412450</td>\n",
              "    </tr>\n",
              "    <tr>\n",
              "      <th>75%</th>\n",
              "      <td>0.082000</td>\n",
              "      <td>0.093625</td>\n",
              "      <td>0.102000</td>\n",
              "      <td>0.124750</td>\n",
              "      <td>0.180000</td>\n",
              "      <td>0.157000</td>\n",
              "      <td>0.201300</td>\n",
              "      <td>0.236100</td>\n",
              "      <td>0.332500</td>\n",
              "      <td>0.572100</td>\n",
              "      <td>0.200500</td>\n",
              "      <td>0.220562</td>\n",
              "      <td>0.237850</td>\n",
              "      <td>0.291950</td>\n",
              "      <td>0.449100</td>\n",
              "    </tr>\n",
              "    <tr>\n",
              "      <th>max</th>\n",
              "      <td>0.152000</td>\n",
              "      <td>0.154000</td>\n",
              "      <td>0.156000</td>\n",
              "      <td>0.180000</td>\n",
              "      <td>0.262000</td>\n",
              "      <td>0.184290</td>\n",
              "      <td>0.222860</td>\n",
              "      <td>0.260000</td>\n",
              "      <td>0.364800</td>\n",
              "      <td>0.633800</td>\n",
              "      <td>0.740250</td>\n",
              "      <td>0.663000</td>\n",
              "      <td>0.549600</td>\n",
              "      <td>0.452280</td>\n",
              "      <td>0.555930</td>\n",
              "    </tr>\n",
              "  </tbody>\n",
              "</table>\n",
              "</div>\n",
              "      <button class=\"colab-df-convert\" onclick=\"convertToInteractive('df-e2aa0ad6-251b-4e84-8696-abc95f6e9d18')\"\n",
              "              title=\"Convert this dataframe to an interactive table.\"\n",
              "              style=\"display:none;\">\n",
              "        \n",
              "  <svg xmlns=\"http://www.w3.org/2000/svg\" height=\"24px\"viewBox=\"0 0 24 24\"\n",
              "       width=\"24px\">\n",
              "    <path d=\"M0 0h24v24H0V0z\" fill=\"none\"/>\n",
              "    <path d=\"M18.56 5.44l.94 2.06.94-2.06 2.06-.94-2.06-.94-.94-2.06-.94 2.06-2.06.94zm-11 1L8.5 8.5l.94-2.06 2.06-.94-2.06-.94L8.5 2.5l-.94 2.06-2.06.94zm10 10l.94 2.06.94-2.06 2.06-.94-2.06-.94-.94-2.06-.94 2.06-2.06.94z\"/><path d=\"M17.41 7.96l-1.37-1.37c-.4-.4-.92-.59-1.43-.59-.52 0-1.04.2-1.43.59L10.3 9.45l-7.72 7.72c-.78.78-.78 2.05 0 2.83L4 21.41c.39.39.9.59 1.41.59.51 0 1.02-.2 1.41-.59l7.78-7.78 2.81-2.81c.8-.78.8-2.07 0-2.86zM5.41 20L4 18.59l7.72-7.72 1.47 1.35L5.41 20z\"/>\n",
              "  </svg>\n",
              "      </button>\n",
              "      \n",
              "  <style>\n",
              "    .colab-df-container {\n",
              "      display:flex;\n",
              "      flex-wrap:wrap;\n",
              "      gap: 12px;\n",
              "    }\n",
              "\n",
              "    .colab-df-convert {\n",
              "      background-color: #E8F0FE;\n",
              "      border: none;\n",
              "      border-radius: 50%;\n",
              "      cursor: pointer;\n",
              "      display: none;\n",
              "      fill: #1967D2;\n",
              "      height: 32px;\n",
              "      padding: 0 0 0 0;\n",
              "      width: 32px;\n",
              "    }\n",
              "\n",
              "    .colab-df-convert:hover {\n",
              "      background-color: #E2EBFA;\n",
              "      box-shadow: 0px 1px 2px rgba(60, 64, 67, 0.3), 0px 1px 3px 1px rgba(60, 64, 67, 0.15);\n",
              "      fill: #174EA6;\n",
              "    }\n",
              "\n",
              "    [theme=dark] .colab-df-convert {\n",
              "      background-color: #3B4455;\n",
              "      fill: #D2E3FC;\n",
              "    }\n",
              "\n",
              "    [theme=dark] .colab-df-convert:hover {\n",
              "      background-color: #434B5C;\n",
              "      box-shadow: 0px 1px 3px 1px rgba(0, 0, 0, 0.15);\n",
              "      filter: drop-shadow(0px 1px 2px rgba(0, 0, 0, 0.3));\n",
              "      fill: #FFFFFF;\n",
              "    }\n",
              "  </style>\n",
              "\n",
              "      <script>\n",
              "        const buttonEl =\n",
              "          document.querySelector('#df-e2aa0ad6-251b-4e84-8696-abc95f6e9d18 button.colab-df-convert');\n",
              "        buttonEl.style.display =\n",
              "          google.colab.kernel.accessAllowed ? 'block' : 'none';\n",
              "\n",
              "        async function convertToInteractive(key) {\n",
              "          const element = document.querySelector('#df-e2aa0ad6-251b-4e84-8696-abc95f6e9d18');\n",
              "          const dataTable =\n",
              "            await google.colab.kernel.invokeFunction('convertToInteractive',\n",
              "                                                     [key], {});\n",
              "          if (!dataTable) return;\n",
              "\n",
              "          const docLinkHtml = 'Like what you see? Visit the ' +\n",
              "            '<a target=\"_blank\" href=https://colab.research.google.com/notebooks/data_table.ipynb>data table notebook</a>'\n",
              "            + ' to learn more about interactive tables.';\n",
              "          element.innerHTML = '';\n",
              "          dataTable['output_type'] = 'display_data';\n",
              "          await google.colab.output.renderOutput(dataTable, element);\n",
              "          const docLink = document.createElement('div');\n",
              "          docLink.innerHTML = docLinkHtml;\n",
              "          element.appendChild(docLink);\n",
              "        }\n",
              "      </script>\n",
              "    </div>\n",
              "  </div>\n",
              "  "
            ],
            "text/plain": [
              "       GOFO - 1 Month  ...  LIBOR-GOFO - 12 Months\n",
              "count      274.000000  ...              272.000000\n",
              "mean         0.008498  ...                0.414756\n",
              "std          0.106263  ...                0.047982\n",
              "min         -0.582500  ...                0.320700\n",
              "25%         -0.039500  ...                0.376250\n",
              "50%          0.030665  ...                0.412450\n",
              "75%          0.082000  ...                0.449100\n",
              "max          0.152000  ...                0.555930\n",
              "\n",
              "[8 rows x 15 columns]"
            ]
          },
          "metadata": {},
          "execution_count": 8
        }
      ],
      "source": [
        "#Principales Estadisticos\n",
        "df.describe()"
      ]
    },
    {
      "cell_type": "code",
      "execution_count": 9,
      "metadata": {
        "colab": {
          "base_uri": "https://localhost:8080/",
          "height": 520
        },
        "id": "G9p2SQzT5O7T",
        "outputId": "06c7f62b-836b-4865-fb03-6ba6a356267b"
      },
      "outputs": [
        {
          "output_type": "execute_result",
          "data": {
            "text/html": [
              "\n",
              "  <div id=\"df-93cae352-0554-4710-91d2-0c05dea148b1\">\n",
              "    <div class=\"colab-df-container\">\n",
              "      <div>\n",
              "<style scoped>\n",
              "    .dataframe tbody tr th:only-of-type {\n",
              "        vertical-align: middle;\n",
              "    }\n",
              "\n",
              "    .dataframe tbody tr th {\n",
              "        vertical-align: top;\n",
              "    }\n",
              "\n",
              "    .dataframe thead th {\n",
              "        text-align: right;\n",
              "    }\n",
              "</style>\n",
              "<table border=\"1\" class=\"dataframe\">\n",
              "  <thead>\n",
              "    <tr style=\"text-align: right;\">\n",
              "      <th></th>\n",
              "      <th>count</th>\n",
              "      <th>mean</th>\n",
              "      <th>std</th>\n",
              "      <th>min</th>\n",
              "      <th>25%</th>\n",
              "      <th>50%</th>\n",
              "      <th>75%</th>\n",
              "      <th>max</th>\n",
              "    </tr>\n",
              "  </thead>\n",
              "  <tbody>\n",
              "    <tr>\n",
              "      <th>GOFO - 1 Month</th>\n",
              "      <td>274.0</td>\n",
              "      <td>0.008498</td>\n",
              "      <td>0.106263</td>\n",
              "      <td>-0.58250</td>\n",
              "      <td>-0.039500</td>\n",
              "      <td>0.030665</td>\n",
              "      <td>0.082000</td>\n",
              "      <td>0.15200</td>\n",
              "    </tr>\n",
              "    <tr>\n",
              "      <th>GOFO - 2 Months</th>\n",
              "      <td>274.0</td>\n",
              "      <td>0.026322</td>\n",
              "      <td>0.089587</td>\n",
              "      <td>-0.46500</td>\n",
              "      <td>-0.019167</td>\n",
              "      <td>0.047085</td>\n",
              "      <td>0.093625</td>\n",
              "      <td>0.15400</td>\n",
              "    </tr>\n",
              "    <tr>\n",
              "      <th>GOFO - 3 Months</th>\n",
              "      <td>274.0</td>\n",
              "      <td>0.043891</td>\n",
              "      <td>0.075174</td>\n",
              "      <td>-0.31500</td>\n",
              "      <td>0.000500</td>\n",
              "      <td>0.058165</td>\n",
              "      <td>0.102000</td>\n",
              "      <td>0.15600</td>\n",
              "    </tr>\n",
              "    <tr>\n",
              "      <th>GOFO - 6 Months</th>\n",
              "      <td>274.0</td>\n",
              "      <td>0.080606</td>\n",
              "      <td>0.054883</td>\n",
              "      <td>-0.12333</td>\n",
              "      <td>0.044250</td>\n",
              "      <td>0.090000</td>\n",
              "      <td>0.124750</td>\n",
              "      <td>0.18000</td>\n",
              "    </tr>\n",
              "    <tr>\n",
              "      <th>GOFO - 12 Months</th>\n",
              "      <td>274.0</td>\n",
              "      <td>0.150443</td>\n",
              "      <td>0.047777</td>\n",
              "      <td>0.00667</td>\n",
              "      <td>0.122000</td>\n",
              "      <td>0.149000</td>\n",
              "      <td>0.180000</td>\n",
              "      <td>0.26200</td>\n",
              "    </tr>\n",
              "    <tr>\n",
              "      <th>LIBOR - 1 Month</th>\n",
              "      <td>273.0</td>\n",
              "      <td>0.156120</td>\n",
              "      <td>0.005361</td>\n",
              "      <td>0.14775</td>\n",
              "      <td>0.152500</td>\n",
              "      <td>0.155000</td>\n",
              "      <td>0.157000</td>\n",
              "      <td>0.18429</td>\n",
              "    </tr>\n",
              "    <tr>\n",
              "      <th>LIBOR - 2 Months</th>\n",
              "      <td>273.0</td>\n",
              "      <td>0.198887</td>\n",
              "      <td>0.006858</td>\n",
              "      <td>0.18900</td>\n",
              "      <td>0.194100</td>\n",
              "      <td>0.197000</td>\n",
              "      <td>0.201300</td>\n",
              "      <td>0.22286</td>\n",
              "    </tr>\n",
              "    <tr>\n",
              "      <th>LIBOR - 3 Months</th>\n",
              "      <td>273.0</td>\n",
              "      <td>0.235376</td>\n",
              "      <td>0.007705</td>\n",
              "      <td>0.22285</td>\n",
              "      <td>0.231350</td>\n",
              "      <td>0.233600</td>\n",
              "      <td>0.236100</td>\n",
              "      <td>0.26000</td>\n",
              "    </tr>\n",
              "    <tr>\n",
              "      <th>LIBOR - 6 Months</th>\n",
              "      <td>273.0</td>\n",
              "      <td>0.331667</td>\n",
              "      <td>0.010328</td>\n",
              "      <td>0.31940</td>\n",
              "      <td>0.325650</td>\n",
              "      <td>0.328950</td>\n",
              "      <td>0.332500</td>\n",
              "      <td>0.36480</td>\n",
              "    </tr>\n",
              "    <tr>\n",
              "      <th>LIBOR - 12 Months</th>\n",
              "      <td>273.0</td>\n",
              "      <td>0.565206</td>\n",
              "      <td>0.024568</td>\n",
              "      <td>0.52743</td>\n",
              "      <td>0.549500</td>\n",
              "      <td>0.557200</td>\n",
              "      <td>0.572100</td>\n",
              "      <td>0.63380</td>\n",
              "    </tr>\n",
              "    <tr>\n",
              "      <th>LIBOR-GOFO - 1 Month</th>\n",
              "      <td>272.0</td>\n",
              "      <td>0.147941</td>\n",
              "      <td>0.106562</td>\n",
              "      <td>0.00100</td>\n",
              "      <td>0.075025</td>\n",
              "      <td>0.128125</td>\n",
              "      <td>0.200500</td>\n",
              "      <td>0.74025</td>\n",
              "    </tr>\n",
              "    <tr>\n",
              "      <th>LIBOR-GOFO - 2 Months</th>\n",
              "      <td>272.0</td>\n",
              "      <td>0.172890</td>\n",
              "      <td>0.090508</td>\n",
              "      <td>0.04100</td>\n",
              "      <td>0.107125</td>\n",
              "      <td>0.156500</td>\n",
              "      <td>0.220562</td>\n",
              "      <td>0.66300</td>\n",
              "    </tr>\n",
              "    <tr>\n",
              "      <th>LIBOR-GOFO - 3 Months</th>\n",
              "      <td>272.0</td>\n",
              "      <td>0.191785</td>\n",
              "      <td>0.074778</td>\n",
              "      <td>0.07840</td>\n",
              "      <td>0.133475</td>\n",
              "      <td>0.182075</td>\n",
              "      <td>0.237850</td>\n",
              "      <td>0.54960</td>\n",
              "    </tr>\n",
              "    <tr>\n",
              "      <th>LIBOR-GOFO - 6 Months</th>\n",
              "      <td>272.0</td>\n",
              "      <td>0.251305</td>\n",
              "      <td>0.055483</td>\n",
              "      <td>0.14880</td>\n",
              "      <td>0.205900</td>\n",
              "      <td>0.244450</td>\n",
              "      <td>0.291950</td>\n",
              "      <td>0.45228</td>\n",
              "    </tr>\n",
              "    <tr>\n",
              "      <th>LIBOR-GOFO - 12 Months</th>\n",
              "      <td>272.0</td>\n",
              "      <td>0.414756</td>\n",
              "      <td>0.047982</td>\n",
              "      <td>0.32070</td>\n",
              "      <td>0.376250</td>\n",
              "      <td>0.412450</td>\n",
              "      <td>0.449100</td>\n",
              "      <td>0.55593</td>\n",
              "    </tr>\n",
              "  </tbody>\n",
              "</table>\n",
              "</div>\n",
              "      <button class=\"colab-df-convert\" onclick=\"convertToInteractive('df-93cae352-0554-4710-91d2-0c05dea148b1')\"\n",
              "              title=\"Convert this dataframe to an interactive table.\"\n",
              "              style=\"display:none;\">\n",
              "        \n",
              "  <svg xmlns=\"http://www.w3.org/2000/svg\" height=\"24px\"viewBox=\"0 0 24 24\"\n",
              "       width=\"24px\">\n",
              "    <path d=\"M0 0h24v24H0V0z\" fill=\"none\"/>\n",
              "    <path d=\"M18.56 5.44l.94 2.06.94-2.06 2.06-.94-2.06-.94-.94-2.06-.94 2.06-2.06.94zm-11 1L8.5 8.5l.94-2.06 2.06-.94-2.06-.94L8.5 2.5l-.94 2.06-2.06.94zm10 10l.94 2.06.94-2.06 2.06-.94-2.06-.94-.94-2.06-.94 2.06-2.06.94z\"/><path d=\"M17.41 7.96l-1.37-1.37c-.4-.4-.92-.59-1.43-.59-.52 0-1.04.2-1.43.59L10.3 9.45l-7.72 7.72c-.78.78-.78 2.05 0 2.83L4 21.41c.39.39.9.59 1.41.59.51 0 1.02-.2 1.41-.59l7.78-7.78 2.81-2.81c.8-.78.8-2.07 0-2.86zM5.41 20L4 18.59l7.72-7.72 1.47 1.35L5.41 20z\"/>\n",
              "  </svg>\n",
              "      </button>\n",
              "      \n",
              "  <style>\n",
              "    .colab-df-container {\n",
              "      display:flex;\n",
              "      flex-wrap:wrap;\n",
              "      gap: 12px;\n",
              "    }\n",
              "\n",
              "    .colab-df-convert {\n",
              "      background-color: #E8F0FE;\n",
              "      border: none;\n",
              "      border-radius: 50%;\n",
              "      cursor: pointer;\n",
              "      display: none;\n",
              "      fill: #1967D2;\n",
              "      height: 32px;\n",
              "      padding: 0 0 0 0;\n",
              "      width: 32px;\n",
              "    }\n",
              "\n",
              "    .colab-df-convert:hover {\n",
              "      background-color: #E2EBFA;\n",
              "      box-shadow: 0px 1px 2px rgba(60, 64, 67, 0.3), 0px 1px 3px 1px rgba(60, 64, 67, 0.15);\n",
              "      fill: #174EA6;\n",
              "    }\n",
              "\n",
              "    [theme=dark] .colab-df-convert {\n",
              "      background-color: #3B4455;\n",
              "      fill: #D2E3FC;\n",
              "    }\n",
              "\n",
              "    [theme=dark] .colab-df-convert:hover {\n",
              "      background-color: #434B5C;\n",
              "      box-shadow: 0px 1px 3px 1px rgba(0, 0, 0, 0.15);\n",
              "      filter: drop-shadow(0px 1px 2px rgba(0, 0, 0, 0.3));\n",
              "      fill: #FFFFFF;\n",
              "    }\n",
              "  </style>\n",
              "\n",
              "      <script>\n",
              "        const buttonEl =\n",
              "          document.querySelector('#df-93cae352-0554-4710-91d2-0c05dea148b1 button.colab-df-convert');\n",
              "        buttonEl.style.display =\n",
              "          google.colab.kernel.accessAllowed ? 'block' : 'none';\n",
              "\n",
              "        async function convertToInteractive(key) {\n",
              "          const element = document.querySelector('#df-93cae352-0554-4710-91d2-0c05dea148b1');\n",
              "          const dataTable =\n",
              "            await google.colab.kernel.invokeFunction('convertToInteractive',\n",
              "                                                     [key], {});\n",
              "          if (!dataTable) return;\n",
              "\n",
              "          const docLinkHtml = 'Like what you see? Visit the ' +\n",
              "            '<a target=\"_blank\" href=https://colab.research.google.com/notebooks/data_table.ipynb>data table notebook</a>'\n",
              "            + ' to learn more about interactive tables.';\n",
              "          element.innerHTML = '';\n",
              "          dataTable['output_type'] = 'display_data';\n",
              "          await google.colab.output.renderOutput(dataTable, element);\n",
              "          const docLink = document.createElement('div');\n",
              "          docLink.innerHTML = docLinkHtml;\n",
              "          element.appendChild(docLink);\n",
              "        }\n",
              "      </script>\n",
              "    </div>\n",
              "  </div>\n",
              "  "
            ],
            "text/plain": [
              "                        count      mean       std  ...       50%       75%      max\n",
              "GOFO - 1 Month          274.0  0.008498  0.106263  ...  0.030665  0.082000  0.15200\n",
              "GOFO - 2 Months         274.0  0.026322  0.089587  ...  0.047085  0.093625  0.15400\n",
              "GOFO - 3 Months         274.0  0.043891  0.075174  ...  0.058165  0.102000  0.15600\n",
              "GOFO - 6 Months         274.0  0.080606  0.054883  ...  0.090000  0.124750  0.18000\n",
              "GOFO - 12 Months        274.0  0.150443  0.047777  ...  0.149000  0.180000  0.26200\n",
              "LIBOR - 1 Month         273.0  0.156120  0.005361  ...  0.155000  0.157000  0.18429\n",
              "LIBOR - 2 Months        273.0  0.198887  0.006858  ...  0.197000  0.201300  0.22286\n",
              "LIBOR - 3 Months        273.0  0.235376  0.007705  ...  0.233600  0.236100  0.26000\n",
              "LIBOR - 6 Months        273.0  0.331667  0.010328  ...  0.328950  0.332500  0.36480\n",
              "LIBOR - 12 Months       273.0  0.565206  0.024568  ...  0.557200  0.572100  0.63380\n",
              "LIBOR-GOFO - 1 Month    272.0  0.147941  0.106562  ...  0.128125  0.200500  0.74025\n",
              "LIBOR-GOFO - 2 Months   272.0  0.172890  0.090508  ...  0.156500  0.220562  0.66300\n",
              "LIBOR-GOFO - 3 Months   272.0  0.191785  0.074778  ...  0.182075  0.237850  0.54960\n",
              "LIBOR-GOFO - 6 Months   272.0  0.251305  0.055483  ...  0.244450  0.291950  0.45228\n",
              "LIBOR-GOFO - 12 Months  272.0  0.414756  0.047982  ...  0.412450  0.449100  0.55593\n",
              "\n",
              "[15 rows x 8 columns]"
            ]
          },
          "metadata": {},
          "execution_count": 9
        }
      ],
      "source": [
        "#Hagamos un pivot de la funcion describe para visualizar mejor nuestros datos!\n",
        "df.describe().T"
      ]
    },
    {
      "cell_type": "markdown",
      "metadata": {
        "id": "2ve1T_bY5O7U"
      },
      "source": [
        "Resumen de los datos:\n",
        "\n",
        "Los datos se relacionan con la industria de la salud. Contamos con 768 observaciones y 9 variables. También resulta importa mencionar, que no tenemos valores missings en nuestro dataset. "
      ]
    },
    {
      "cell_type": "markdown",
      "metadata": {
        "id": "Zmrr3a7n5O7U"
      },
      "source": [
        "Pregnancies"
      ]
    },
    {
      "cell_type": "code",
      "execution_count": 11,
      "metadata": {
        "colab": {
          "base_uri": "https://localhost:8080/"
        },
        "id": "MYxnrM465O7V",
        "outputId": "e1744929-919f-4e92-f172-4f3ada81ba9b"
      },
      "outputs": [
        {
          "output_type": "execute_result",
          "data": {
            "text/plain": [
              "count    274.000000\n",
              "mean       0.008498\n",
              "std        0.106263\n",
              "min       -0.582500\n",
              "25%       -0.039500\n",
              "50%        0.030665\n",
              "75%        0.082000\n",
              "max        0.152000\n",
              "Name: GOFO - 1 Month, dtype: float64"
            ]
          },
          "metadata": {},
          "execution_count": 11
        }
      ],
      "source": [
        "df[\"GOFO - 1 Month\"].describe()"
      ]
    },
    {
      "cell_type": "code",
      "execution_count": null,
      "metadata": {
        "id": "rd_Kz8tc5O7V",
        "outputId": "e3449fe0-34d5-459e-e2d0-a8390a412998"
      },
      "outputs": [
        {
          "data": {
            "text/plain": [
              "<AxesSubplot:ylabel='Pregnancies'>"
            ]
          },
          "execution_count": 11,
          "metadata": {},
          "output_type": "execute_result"
        },
        {
          "data": {
            "image/png": "[encoded data removed]",
            "text/plain": [
              "<Figure size 432x288 with 1 Axes>"
            ]
          },
          "metadata": {
            "needs_background": "light"
          },
          "output_type": "display_data"
        }
      ],
      "source": [
        "from seaborn import boxplot\n",
        "boxplot(df[\"GOFO - 1 Month\"], orient=\"v\")"
      ]
    },
    {
      "cell_type": "code",
      "execution_count": 13,
      "metadata": {
        "colab": {
          "base_uri": "https://localhost:8080/",
          "height": 296
        },
        "id": "4_CQykPy5O7W",
        "outputId": "c6f3fd35-aa26-4fc2-984b-01ae48b65d36"
      },
      "outputs": [
        {
          "output_type": "execute_result",
          "data": {
            "text/plain": [
              "<matplotlib.axes._subplots.AxesSubplot at 0x7f2b30a42ad0>"
            ]
          },
          "metadata": {},
          "execution_count": 13
        },
        {
          "output_type": "display_data",
          "data": {
            "image/png": "[encoded data removed]",
            "text/plain": [
              "<Figure size 432x288 with 1 Axes>"
            ]
          },
          "metadata": {
            "needs_background": "light"
          }
        }
      ],
      "source": [
        "sns.histplot(df[\"GOFO - 1 Month\"])"
      ]
    },
    {
      "cell_type": "code",
      "execution_count": 14,
      "metadata": {
        "colab": {
          "base_uri": "https://localhost:8080/",
          "height": 386
        },
        "id": "k__m3Tua5O7W",
        "outputId": "aa722fa4-2407-478b-9505-60675f0a9090"
      },
      "outputs": [
        {
          "output_type": "stream",
          "name": "stderr",
          "text": [
            "/usr/local/lib/python3.7/dist-packages/seaborn/_decorators.py:43: FutureWarning: Pass the following variable as a keyword arg: x. From version 0.12, the only valid positional argument will be `data`, and passing other arguments without an explicit keyword will result in an error or misinterpretation.\n",
            "  FutureWarning\n",
            "/usr/local/lib/python3.7/dist-packages/seaborn/_core.py:1326: UserWarning: Vertical orientation ignored with only `x` specified.\n",
            "  warnings.warn(single_var_warning.format(\"Vertical\", \"x\"))\n"
          ]
        },
        {
          "output_type": "execute_result",
          "data": {
            "text/plain": [
              "<matplotlib.axes._subplots.AxesSubplot at 0x7f2b2f0faed0>"
            ]
          },
          "metadata": {},
          "execution_count": 14
        },
        {
          "output_type": "display_data",
          "data": {
            "image/png": "[encoded data removed]",
            "text/plain": [
              "<Figure size 432x288 with 1 Axes>"
            ]
          },
          "metadata": {
            "needs_background": "light"
          }
        }
      ],
      "source": [
        "from seaborn import violinplot\n",
        "violinplot(df[\"GOFO - 1 Month\"], data=df , orient=\"v\")"
      ]
    },
    {
      "cell_type": "markdown",
      "metadata": {
        "id": "xhMZwLii5O7X"
      },
      "source": [
        "Glucose "
      ]
    },
    {
      "cell_type": "code",
      "execution_count": null,
      "metadata": {
        "id": "Bi4rNZwT5O7X",
        "outputId": "6f3e4274-cdee-42fa-cb01-084194043d4e"
      },
      "outputs": [
        {
          "data": {
            "text/plain": [
              "count    768.000000\n",
              "mean     120.894531\n",
              "std       31.972618\n",
              "min        0.000000\n",
              "25%       99.000000\n",
              "50%      117.000000\n",
              "75%      140.250000\n",
              "max      199.000000\n",
              "Name: Glucose, dtype: float64"
            ]
          },
          "execution_count": 14,
          "metadata": {},
          "output_type": "execute_result"
        }
      ],
      "source": [
        "df.Glucose.describe()"
      ]
    },
    {
      "cell_type": "code",
      "execution_count": null,
      "metadata": {
        "id": "vHm1FdT75O7Y",
        "outputId": "01050ff4-873b-4f7f-a069-cd898ab5bc5b"
      },
      "outputs": [
        {
          "data": {
            "text/plain": [
              "<AxesSubplot:xlabel='Glucose'>"
            ]
          },
          "execution_count": 15,
          "metadata": {},
          "output_type": "execute_result"
        },
        {
          "data": {
            "image/png": "[encoded data removed]",
            "text/plain": [
              "<Figure size 432x288 with 1 Axes>"
            ]
          },
          "metadata": {
            "needs_background": "light"
          },
          "output_type": "display_data"
        }
      ],
      "source": [
        "from seaborn import distplot\n",
        "distplot(df.Glucose)"
      ]
    },
    {
      "cell_type": "code",
      "execution_count": null,
      "metadata": {
        "id": "bct3HnFr5O7Y",
        "outputId": "f0777e62-2d2c-4aef-fb1a-9f7085a88b9c"
      },
      "outputs": [
        {
          "data": {
            "text/plain": [
              "<AxesSubplot:ylabel='Glucose'>"
            ]
          },
          "execution_count": 16,
          "metadata": {},
          "output_type": "execute_result"
        },
        {
          "data": {
            "image/png": "[encoded data removed]",
            "text/plain": [
              "<Figure size 432x288 with 1 Axes>"
            ]
          },
          "metadata": {
            "needs_background": "light"
          },
          "output_type": "display_data"
        }
      ],
      "source": [
        "from seaborn import boxplot\n",
        "boxplot(df.Glucose, orient=\"v\")"
      ]
    },
    {
      "cell_type": "code",
      "execution_count": null,
      "metadata": {
        "id": "tc1ThEz95O7Y",
        "outputId": "3fc7c69c-19a0-400f-e95d-8c86ed501c3d"
      },
      "outputs": [
        {
          "data": {
            "text/plain": [
              "<AxesSubplot:ylabel='Glucose'>"
            ]
          },
          "execution_count": 17,
          "metadata": {},
          "output_type": "execute_result"
        },
        {
          "data": {
            "image/png": "[encoded data removed]",
            "text/plain": [
              "<Figure size 432x288 with 1 Axes>"
            ]
          },
          "metadata": {
            "needs_background": "light"
          },
          "output_type": "display_data"
        }
      ],
      "source": [
        "from seaborn import violinplot\n",
        "violinplot(df.Glucose, data=df , orient=\"v\")"
      ]
    },
    {
      "cell_type": "markdown",
      "metadata": {
        "id": "hUm6ka5Y5O7Z"
      },
      "source": [
        "Blood Pressure"
      ]
    },
    {
      "cell_type": "code",
      "execution_count": null,
      "metadata": {
        "id": "NqLfusiR5O7Z",
        "outputId": "e11ecb4b-c800-4007-f662-1a85cf040109"
      },
      "outputs": [
        {
          "data": {
            "text/plain": [
              "count    768.000000\n",
              "mean      69.105469\n",
              "std       19.355807\n",
              "min        0.000000\n",
              "25%       62.000000\n",
              "50%       72.000000\n",
              "75%       80.000000\n",
              "max      122.000000\n",
              "Name: BloodPressure, dtype: float64"
            ]
          },
          "execution_count": 18,
          "metadata": {},
          "output_type": "execute_result"
        }
      ],
      "source": [
        "df.BloodPressure.describe()"
      ]
    },
    {
      "cell_type": "code",
      "execution_count": null,
      "metadata": {
        "id": "s3FP3vhY5O7a",
        "outputId": "78fb1a54-ff5e-478b-ee19-a5d1f35cf16c"
      },
      "outputs": [
        {
          "data": {
            "image/png": "[encoded data removed]",
            "text/plain": [
              "<Figure size 960x480 with 2 Axes>"
            ]
          },
          "metadata": {
            "needs_background": "light"
          },
          "output_type": "display_data"
        }
      ],
      "source": [
        "fig,axes = plt.subplots(nrows=1,ncols=2,dpi=120,figsize = (8,4))\n",
        "\n",
        "plot0=sns.distplot(df[df['BloodPressure']!=0]['BloodPressure'],ax=axes[0],color='green')\n",
        "axes[0].yaxis.set_major_formatter(FormatStrFormatter('%.3f'))\n",
        "axes[0].set_title('Distribution of BP',fontdict={'fontsize':8})\n",
        "axes[0].set_xlabel('BP Class',fontdict={'fontsize':7})\n",
        "axes[0].set_ylabel('Count/Dist.',fontdict={'fontsize':7})\n",
        "plt.tight_layout()\n",
        "\n",
        "plot1=sns.boxplot(df[df['BloodPressure']!=0]['BloodPressure'],ax=axes[1],orient='v')\n",
        "axes[1].set_title('Numerical Summary',fontdict={'fontsize':8})\n",
        "axes[1].set_xlabel('BloodPressure',fontdict={'fontsize':7})\n",
        "axes[1].set_ylabel(r'Five Point Summary(BP)',fontdict={'fontsize':7})\n",
        "plt.tight_layout()"
      ]
    },
    {
      "cell_type": "markdown",
      "metadata": {
        "id": "slkvAZZa5O7a"
      },
      "source": [
        "SkinThickness"
      ]
    },
    {
      "cell_type": "code",
      "execution_count": null,
      "metadata": {
        "id": "zaG9TYhp5O7a",
        "outputId": "6364cb04-4987-49f1-e514-8cb22e7dc371"
      },
      "outputs": [
        {
          "data": {
            "text/plain": [
              "count    768.000000\n",
              "mean      20.536458\n",
              "std       15.952218\n",
              "min        0.000000\n",
              "25%        0.000000\n",
              "50%       23.000000\n",
              "75%       32.000000\n",
              "max       99.000000\n",
              "Name: SkinThickness, dtype: float64"
            ]
          },
          "execution_count": 22,
          "metadata": {},
          "output_type": "execute_result"
        }
      ],
      "source": [
        "df.SkinThickness.describe()"
      ]
    },
    {
      "cell_type": "code",
      "execution_count": null,
      "metadata": {
        "id": "wACJrOjw5O7b",
        "outputId": "5a021a21-dd74-44c9-c37e-50a373e53eb9"
      },
      "outputs": [
        {
          "data": {
            "text/plain": [
              "<AxesSubplot:xlabel='SkinThickness'>"
            ]
          },
          "execution_count": 23,
          "metadata": {},
          "output_type": "execute_result"
        },
        {
          "data": {
            "image/png": "[encoded data removed]",
            "text/plain": [
              "<Figure size 432x288 with 1 Axes>"
            ]
          },
          "metadata": {
            "needs_background": "light"
          },
          "output_type": "display_data"
        }
      ],
      "source": [
        "distplot(df.SkinThickness)"
      ]
    },
    {
      "cell_type": "code",
      "execution_count": null,
      "metadata": {
        "id": "D_LI6PQM5O7b",
        "outputId": "cd784458-7f95-4ac7-e362-7d28dc86d07e"
      },
      "outputs": [
        {
          "data": {
            "text/plain": [
              "<AxesSubplot:ylabel='SkinThickness'>"
            ]
          },
          "execution_count": 24,
          "metadata": {},
          "output_type": "execute_result"
        },
        {
          "data": {
            "image/png": "[encoded data removed]",
            "text/plain": [
              "<Figure size 432x288 with 1 Axes>"
            ]
          },
          "metadata": {
            "needs_background": "light"
          },
          "output_type": "display_data"
        }
      ],
      "source": [
        "violinplot(df.SkinThickness, data=df , orient=\"v\")"
      ]
    },
    {
      "cell_type": "markdown",
      "metadata": {
        "id": "y7qchqyu5O7b"
      },
      "source": [
        "# Distribucion de Frecuencias - Ejemplo : Pregnancies"
      ]
    },
    {
      "cell_type": "code",
      "execution_count": null,
      "metadata": {
        "id": "o2kot16c5O7b",
        "outputId": "0f35ffed-d426-4ec6-8796-8632c2dab126"
      },
      "outputs": [
        {
          "data": {
            "text/plain": [
              "1     135\n",
              "0     111\n",
              "2     103\n",
              "3      75\n",
              "4      68\n",
              "5      57\n",
              "6      50\n",
              "7      45\n",
              "8      38\n",
              "9      28\n",
              "10     24\n",
              "11     11\n",
              "13     10\n",
              "12      9\n",
              "14      2\n",
              "15      1\n",
              "17      1\n",
              "Name: Pregnancies, dtype: int64"
            ]
          },
          "execution_count": 25,
          "metadata": {},
          "output_type": "execute_result"
        }
      ],
      "source": [
        "frec = df[\"Pregnancies\"].value_counts()\n",
        "frec"
      ]
    },
    {
      "cell_type": "code",
      "execution_count": null,
      "metadata": {
        "id": "Zi0m-z_M5O7c",
        "outputId": "02d5803d-b1f5-4dae-826f-1cd97a30bed4"
      },
      "outputs": [
        {
          "data": {
            "text/html": [
              "<div>\n",
              "<style scoped>\n",
              "    .dataframe tbody tr th:only-of-type {\n",
              "        vertical-align: middle;\n",
              "    }\n",
              "\n",
              "    .dataframe tbody tr th {\n",
              "        vertical-align: top;\n",
              "    }\n",
              "\n",
              "    .dataframe thead th {\n",
              "        text-align: right;\n",
              "    }\n",
              "</style>\n",
              "<table border=\"1\" class=\"dataframe\">\n",
              "  <thead>\n",
              "    <tr style=\"text-align: right;\">\n",
              "      <th></th>\n",
              "      <th>Pregnancies</th>\n",
              "    </tr>\n",
              "  </thead>\n",
              "  <tbody>\n",
              "    <tr>\n",
              "      <th>1</th>\n",
              "      <td>135</td>\n",
              "    </tr>\n",
              "    <tr>\n",
              "      <th>0</th>\n",
              "      <td>111</td>\n",
              "    </tr>\n",
              "    <tr>\n",
              "      <th>2</th>\n",
              "      <td>103</td>\n",
              "    </tr>\n",
              "    <tr>\n",
              "      <th>3</th>\n",
              "      <td>75</td>\n",
              "    </tr>\n",
              "    <tr>\n",
              "      <th>4</th>\n",
              "      <td>68</td>\n",
              "    </tr>\n",
              "    <tr>\n",
              "      <th>5</th>\n",
              "      <td>57</td>\n",
              "    </tr>\n",
              "    <tr>\n",
              "      <th>6</th>\n",
              "      <td>50</td>\n",
              "    </tr>\n",
              "    <tr>\n",
              "      <th>7</th>\n",
              "      <td>45</td>\n",
              "    </tr>\n",
              "    <tr>\n",
              "      <th>8</th>\n",
              "      <td>38</td>\n",
              "    </tr>\n",
              "    <tr>\n",
              "      <th>9</th>\n",
              "      <td>28</td>\n",
              "    </tr>\n",
              "    <tr>\n",
              "      <th>10</th>\n",
              "      <td>24</td>\n",
              "    </tr>\n",
              "    <tr>\n",
              "      <th>11</th>\n",
              "      <td>11</td>\n",
              "    </tr>\n",
              "    <tr>\n",
              "      <th>13</th>\n",
              "      <td>10</td>\n",
              "    </tr>\n",
              "    <tr>\n",
              "      <th>12</th>\n",
              "      <td>9</td>\n",
              "    </tr>\n",
              "    <tr>\n",
              "      <th>14</th>\n",
              "      <td>2</td>\n",
              "    </tr>\n",
              "    <tr>\n",
              "      <th>15</th>\n",
              "      <td>1</td>\n",
              "    </tr>\n",
              "    <tr>\n",
              "      <th>17</th>\n",
              "      <td>1</td>\n",
              "    </tr>\n",
              "  </tbody>\n",
              "</table>\n",
              "</div>"
            ],
            "text/plain": [
              "    Pregnancies\n",
              "1           135\n",
              "0           111\n",
              "2           103\n",
              "3            75\n",
              "4            68\n",
              "5            57\n",
              "6            50\n",
              "7            45\n",
              "8            38\n",
              "9            28\n",
              "10           24\n",
              "11           11\n",
              "13           10\n",
              "12            9\n",
              "14            2\n",
              "15            1\n",
              "17            1"
            ]
          },
          "execution_count": 26,
          "metadata": {},
          "output_type": "execute_result"
        }
      ],
      "source": [
        "#Guardamos esta información en un dataframe\n",
        "frec_df = pd.DataFrame(frec)\n",
        "frec_df"
      ]
    },
    {
      "cell_type": "code",
      "execution_count": null,
      "metadata": {
        "id": "gctoC8KF5O7c",
        "outputId": "3c479e58-8504-4e05-b557-88034a78a7b8"
      },
      "outputs": [
        {
          "data": {
            "text/html": [
              "<div>\n",
              "<style scoped>\n",
              "    .dataframe tbody tr th:only-of-type {\n",
              "        vertical-align: middle;\n",
              "    }\n",
              "\n",
              "    .dataframe tbody tr th {\n",
              "        vertical-align: top;\n",
              "    }\n",
              "\n",
              "    .dataframe thead th {\n",
              "        text-align: right;\n",
              "    }\n",
              "</style>\n",
              "<table border=\"1\" class=\"dataframe\">\n",
              "  <thead>\n",
              "    <tr style=\"text-align: right;\">\n",
              "      <th></th>\n",
              "      <th>Frec_abs</th>\n",
              "    </tr>\n",
              "  </thead>\n",
              "  <tbody>\n",
              "    <tr>\n",
              "      <th>1</th>\n",
              "      <td>135</td>\n",
              "    </tr>\n",
              "    <tr>\n",
              "      <th>0</th>\n",
              "      <td>111</td>\n",
              "    </tr>\n",
              "    <tr>\n",
              "      <th>2</th>\n",
              "      <td>103</td>\n",
              "    </tr>\n",
              "    <tr>\n",
              "      <th>3</th>\n",
              "      <td>75</td>\n",
              "    </tr>\n",
              "    <tr>\n",
              "      <th>4</th>\n",
              "      <td>68</td>\n",
              "    </tr>\n",
              "    <tr>\n",
              "      <th>5</th>\n",
              "      <td>57</td>\n",
              "    </tr>\n",
              "    <tr>\n",
              "      <th>6</th>\n",
              "      <td>50</td>\n",
              "    </tr>\n",
              "    <tr>\n",
              "      <th>7</th>\n",
              "      <td>45</td>\n",
              "    </tr>\n",
              "    <tr>\n",
              "      <th>8</th>\n",
              "      <td>38</td>\n",
              "    </tr>\n",
              "    <tr>\n",
              "      <th>9</th>\n",
              "      <td>28</td>\n",
              "    </tr>\n",
              "    <tr>\n",
              "      <th>10</th>\n",
              "      <td>24</td>\n",
              "    </tr>\n",
              "    <tr>\n",
              "      <th>11</th>\n",
              "      <td>11</td>\n",
              "    </tr>\n",
              "    <tr>\n",
              "      <th>13</th>\n",
              "      <td>10</td>\n",
              "    </tr>\n",
              "    <tr>\n",
              "      <th>12</th>\n",
              "      <td>9</td>\n",
              "    </tr>\n",
              "    <tr>\n",
              "      <th>14</th>\n",
              "      <td>2</td>\n",
              "    </tr>\n",
              "    <tr>\n",
              "      <th>15</th>\n",
              "      <td>1</td>\n",
              "    </tr>\n",
              "    <tr>\n",
              "      <th>17</th>\n",
              "      <td>1</td>\n",
              "    </tr>\n",
              "  </tbody>\n",
              "</table>\n",
              "</div>"
            ],
            "text/plain": [
              "    Frec_abs\n",
              "1        135\n",
              "0        111\n",
              "2        103\n",
              "3         75\n",
              "4         68\n",
              "5         57\n",
              "6         50\n",
              "7         45\n",
              "8         38\n",
              "9         28\n",
              "10        24\n",
              "11        11\n",
              "13        10\n",
              "12         9\n",
              "14         2\n",
              "15         1\n",
              "17         1"
            ]
          },
          "execution_count": 27,
          "metadata": {},
          "output_type": "execute_result"
        }
      ],
      "source": [
        "#Asignamos el nombre Frec_abs a la columna\n",
        "frec_df.rename(columns={'Pregnancies':'Frec_abs'},inplace=True)\n",
        "frec_df"
      ]
    },
    {
      "cell_type": "code",
      "execution_count": null,
      "metadata": {
        "id": "A_t5VcZ35O7c",
        "outputId": "960c1a60-2aad-44c8-bc61-26f0ec725c34"
      },
      "outputs": [
        {
          "data": {
            "text/html": [
              "<div>\n",
              "<style scoped>\n",
              "    .dataframe tbody tr th:only-of-type {\n",
              "        vertical-align: middle;\n",
              "    }\n",
              "\n",
              "    .dataframe tbody tr th {\n",
              "        vertical-align: top;\n",
              "    }\n",
              "\n",
              "    .dataframe thead th {\n",
              "        text-align: right;\n",
              "    }\n",
              "</style>\n",
              "<table border=\"1\" class=\"dataframe\">\n",
              "  <thead>\n",
              "    <tr style=\"text-align: right;\">\n",
              "      <th></th>\n",
              "      <th>Frec_abs</th>\n",
              "      <th>frec_abs_acum</th>\n",
              "    </tr>\n",
              "  </thead>\n",
              "  <tbody>\n",
              "    <tr>\n",
              "      <th>1</th>\n",
              "      <td>135</td>\n",
              "      <td>135</td>\n",
              "    </tr>\n",
              "    <tr>\n",
              "      <th>0</th>\n",
              "      <td>111</td>\n",
              "      <td>246</td>\n",
              "    </tr>\n",
              "    <tr>\n",
              "      <th>2</th>\n",
              "      <td>103</td>\n",
              "      <td>349</td>\n",
              "    </tr>\n",
              "    <tr>\n",
              "      <th>3</th>\n",
              "      <td>75</td>\n",
              "      <td>424</td>\n",
              "    </tr>\n",
              "    <tr>\n",
              "      <th>4</th>\n",
              "      <td>68</td>\n",
              "      <td>492</td>\n",
              "    </tr>\n",
              "    <tr>\n",
              "      <th>5</th>\n",
              "      <td>57</td>\n",
              "      <td>549</td>\n",
              "    </tr>\n",
              "    <tr>\n",
              "      <th>6</th>\n",
              "      <td>50</td>\n",
              "      <td>599</td>\n",
              "    </tr>\n",
              "    <tr>\n",
              "      <th>7</th>\n",
              "      <td>45</td>\n",
              "      <td>644</td>\n",
              "    </tr>\n",
              "    <tr>\n",
              "      <th>8</th>\n",
              "      <td>38</td>\n",
              "      <td>682</td>\n",
              "    </tr>\n",
              "    <tr>\n",
              "      <th>9</th>\n",
              "      <td>28</td>\n",
              "      <td>710</td>\n",
              "    </tr>\n",
              "    <tr>\n",
              "      <th>10</th>\n",
              "      <td>24</td>\n",
              "      <td>734</td>\n",
              "    </tr>\n",
              "    <tr>\n",
              "      <th>11</th>\n",
              "      <td>11</td>\n",
              "      <td>745</td>\n",
              "    </tr>\n",
              "    <tr>\n",
              "      <th>13</th>\n",
              "      <td>10</td>\n",
              "      <td>755</td>\n",
              "    </tr>\n",
              "    <tr>\n",
              "      <th>12</th>\n",
              "      <td>9</td>\n",
              "      <td>764</td>\n",
              "    </tr>\n",
              "    <tr>\n",
              "      <th>14</th>\n",
              "      <td>2</td>\n",
              "      <td>766</td>\n",
              "    </tr>\n",
              "    <tr>\n",
              "      <th>15</th>\n",
              "      <td>1</td>\n",
              "      <td>767</td>\n",
              "    </tr>\n",
              "    <tr>\n",
              "      <th>17</th>\n",
              "      <td>1</td>\n",
              "      <td>768</td>\n",
              "    </tr>\n",
              "  </tbody>\n",
              "</table>\n",
              "</div>"
            ],
            "text/plain": [
              "    Frec_abs  frec_abs_acum\n",
              "1        135            135\n",
              "0        111            246\n",
              "2        103            349\n",
              "3         75            424\n",
              "4         68            492\n",
              "5         57            549\n",
              "6         50            599\n",
              "7         45            644\n",
              "8         38            682\n",
              "9         28            710\n",
              "10        24            734\n",
              "11        11            745\n",
              "13        10            755\n",
              "12         9            764\n",
              "14         2            766\n",
              "15         1            767\n",
              "17         1            768"
            ]
          },
          "execution_count": 28,
          "metadata": {},
          "output_type": "execute_result"
        }
      ],
      "source": [
        "#Obtenemos los valores de las Frecuencias Absolutas\n",
        "Frec_abs_val = frec_df[\"Frec_abs\"].values\n",
        "\n",
        "#Creamos una lista vacia en donde vamos a guardar las frecuencias absolutas acumuladas\n",
        "acum = []\n",
        "\n",
        "#Iniciamos una variable en la que guardaremos los valores anteriores\n",
        "valor_acum = 0\n",
        "\n",
        "#Recorremos la lista  de las frecuencias absolutas para irlas sumando\n",
        "for i in Frec_abs_val:\n",
        "    valor_acum = valor_acum + i\n",
        "    acum.append(valor_acum)\n",
        "    \n",
        "frec_df[\"frec_abs_acum\"] = acum\n",
        "frec_df"
      ]
    },
    {
      "cell_type": "code",
      "execution_count": null,
      "metadata": {
        "id": "GnfWSVYT5O7d",
        "outputId": "73bfdd31-00df-40b4-9134-076b994dba0b"
      },
      "outputs": [
        {
          "data": {
            "text/html": [
              "<div>\n",
              "<style scoped>\n",
              "    .dataframe tbody tr th:only-of-type {\n",
              "        vertical-align: middle;\n",
              "    }\n",
              "\n",
              "    .dataframe tbody tr th {\n",
              "        vertical-align: top;\n",
              "    }\n",
              "\n",
              "    .dataframe thead th {\n",
              "        text-align: right;\n",
              "    }\n",
              "</style>\n",
              "<table border=\"1\" class=\"dataframe\">\n",
              "  <thead>\n",
              "    <tr style=\"text-align: right;\">\n",
              "      <th></th>\n",
              "      <th>Frec_abs</th>\n",
              "      <th>frec_abs_acum</th>\n",
              "      <th>frec_rel_%</th>\n",
              "    </tr>\n",
              "  </thead>\n",
              "  <tbody>\n",
              "    <tr>\n",
              "      <th>1</th>\n",
              "      <td>135</td>\n",
              "      <td>135</td>\n",
              "      <td>17.5781</td>\n",
              "    </tr>\n",
              "    <tr>\n",
              "      <th>0</th>\n",
              "      <td>111</td>\n",
              "      <td>246</td>\n",
              "      <td>14.4531</td>\n",
              "    </tr>\n",
              "    <tr>\n",
              "      <th>2</th>\n",
              "      <td>103</td>\n",
              "      <td>349</td>\n",
              "      <td>13.4115</td>\n",
              "    </tr>\n",
              "    <tr>\n",
              "      <th>3</th>\n",
              "      <td>75</td>\n",
              "      <td>424</td>\n",
              "      <td>9.7656</td>\n",
              "    </tr>\n",
              "    <tr>\n",
              "      <th>4</th>\n",
              "      <td>68</td>\n",
              "      <td>492</td>\n",
              "      <td>8.8542</td>\n",
              "    </tr>\n",
              "    <tr>\n",
              "      <th>5</th>\n",
              "      <td>57</td>\n",
              "      <td>549</td>\n",
              "      <td>7.4219</td>\n",
              "    </tr>\n",
              "    <tr>\n",
              "      <th>6</th>\n",
              "      <td>50</td>\n",
              "      <td>599</td>\n",
              "      <td>6.5104</td>\n",
              "    </tr>\n",
              "    <tr>\n",
              "      <th>7</th>\n",
              "      <td>45</td>\n",
              "      <td>644</td>\n",
              "      <td>5.8594</td>\n",
              "    </tr>\n",
              "    <tr>\n",
              "      <th>8</th>\n",
              "      <td>38</td>\n",
              "      <td>682</td>\n",
              "      <td>4.9479</td>\n",
              "    </tr>\n",
              "    <tr>\n",
              "      <th>9</th>\n",
              "      <td>28</td>\n",
              "      <td>710</td>\n",
              "      <td>3.6458</td>\n",
              "    </tr>\n",
              "    <tr>\n",
              "      <th>10</th>\n",
              "      <td>24</td>\n",
              "      <td>734</td>\n",
              "      <td>3.1250</td>\n",
              "    </tr>\n",
              "    <tr>\n",
              "      <th>11</th>\n",
              "      <td>11</td>\n",
              "      <td>745</td>\n",
              "      <td>1.4323</td>\n",
              "    </tr>\n",
              "    <tr>\n",
              "      <th>13</th>\n",
              "      <td>10</td>\n",
              "      <td>755</td>\n",
              "      <td>1.3021</td>\n",
              "    </tr>\n",
              "    <tr>\n",
              "      <th>12</th>\n",
              "      <td>9</td>\n",
              "      <td>764</td>\n",
              "      <td>1.1719</td>\n",
              "    </tr>\n",
              "    <tr>\n",
              "      <th>14</th>\n",
              "      <td>2</td>\n",
              "      <td>766</td>\n",
              "      <td>0.2604</td>\n",
              "    </tr>\n",
              "    <tr>\n",
              "      <th>15</th>\n",
              "      <td>1</td>\n",
              "      <td>767</td>\n",
              "      <td>0.1302</td>\n",
              "    </tr>\n",
              "    <tr>\n",
              "      <th>17</th>\n",
              "      <td>1</td>\n",
              "      <td>768</td>\n",
              "      <td>0.1302</td>\n",
              "    </tr>\n",
              "  </tbody>\n",
              "</table>\n",
              "</div>"
            ],
            "text/plain": [
              "    Frec_abs  frec_abs_acum  frec_rel_%\n",
              "1        135            135     17.5781\n",
              "0        111            246     14.4531\n",
              "2        103            349     13.4115\n",
              "3         75            424      9.7656\n",
              "4         68            492      8.8542\n",
              "5         57            549      7.4219\n",
              "6         50            599      6.5104\n",
              "7         45            644      5.8594\n",
              "8         38            682      4.9479\n",
              "9         28            710      3.6458\n",
              "10        24            734      3.1250\n",
              "11        11            745      1.4323\n",
              "13        10            755      1.3021\n",
              "12         9            764      1.1719\n",
              "14         2            766      0.2604\n",
              "15         1            767      0.1302\n",
              "17         1            768      0.1302"
            ]
          },
          "execution_count": 29,
          "metadata": {},
          "output_type": "execute_result"
        }
      ],
      "source": [
        "#Calculamos la Frecuencia Relativa en %\n",
        "frec_df[\"frec_rel_%\"] = round(100 * frec_df[\"Frec_abs\"]/len(df.Pregnancies),4)\n",
        "frec_df"
      ]
    },
    {
      "cell_type": "code",
      "execution_count": null,
      "metadata": {
        "id": "CUNDAnpg5O7d",
        "outputId": "bc8b418e-4c5c-4447-a3e1-1a29809aeee9"
      },
      "outputs": [
        {
          "data": {
            "text/html": [
              "<div>\n",
              "<style scoped>\n",
              "    .dataframe tbody tr th:only-of-type {\n",
              "        vertical-align: middle;\n",
              "    }\n",
              "\n",
              "    .dataframe tbody tr th {\n",
              "        vertical-align: top;\n",
              "    }\n",
              "\n",
              "    .dataframe thead th {\n",
              "        text-align: right;\n",
              "    }\n",
              "</style>\n",
              "<table border=\"1\" class=\"dataframe\">\n",
              "  <thead>\n",
              "    <tr style=\"text-align: right;\">\n",
              "      <th></th>\n",
              "      <th>Frec_abs</th>\n",
              "      <th>frec_abs_acum</th>\n",
              "      <th>frec_rel_%</th>\n",
              "      <th>frec_rel_%_acum</th>\n",
              "    </tr>\n",
              "  </thead>\n",
              "  <tbody>\n",
              "    <tr>\n",
              "      <th>1</th>\n",
              "      <td>135</td>\n",
              "      <td>135</td>\n",
              "      <td>17.5781</td>\n",
              "      <td>17.5781</td>\n",
              "    </tr>\n",
              "    <tr>\n",
              "      <th>0</th>\n",
              "      <td>111</td>\n",
              "      <td>246</td>\n",
              "      <td>14.4531</td>\n",
              "      <td>32.0312</td>\n",
              "    </tr>\n",
              "    <tr>\n",
              "      <th>2</th>\n",
              "      <td>103</td>\n",
              "      <td>349</td>\n",
              "      <td>13.4115</td>\n",
              "      <td>45.4427</td>\n",
              "    </tr>\n",
              "    <tr>\n",
              "      <th>3</th>\n",
              "      <td>75</td>\n",
              "      <td>424</td>\n",
              "      <td>9.7656</td>\n",
              "      <td>55.2083</td>\n",
              "    </tr>\n",
              "    <tr>\n",
              "      <th>4</th>\n",
              "      <td>68</td>\n",
              "      <td>492</td>\n",
              "      <td>8.8542</td>\n",
              "      <td>64.0625</td>\n",
              "    </tr>\n",
              "    <tr>\n",
              "      <th>5</th>\n",
              "      <td>57</td>\n",
              "      <td>549</td>\n",
              "      <td>7.4219</td>\n",
              "      <td>71.4844</td>\n",
              "    </tr>\n",
              "    <tr>\n",
              "      <th>6</th>\n",
              "      <td>50</td>\n",
              "      <td>599</td>\n",
              "      <td>6.5104</td>\n",
              "      <td>77.9948</td>\n",
              "    </tr>\n",
              "    <tr>\n",
              "      <th>7</th>\n",
              "      <td>45</td>\n",
              "      <td>644</td>\n",
              "      <td>5.8594</td>\n",
              "      <td>83.8542</td>\n",
              "    </tr>\n",
              "    <tr>\n",
              "      <th>8</th>\n",
              "      <td>38</td>\n",
              "      <td>682</td>\n",
              "      <td>4.9479</td>\n",
              "      <td>88.8021</td>\n",
              "    </tr>\n",
              "    <tr>\n",
              "      <th>9</th>\n",
              "      <td>28</td>\n",
              "      <td>710</td>\n",
              "      <td>3.6458</td>\n",
              "      <td>92.4479</td>\n",
              "    </tr>\n",
              "    <tr>\n",
              "      <th>10</th>\n",
              "      <td>24</td>\n",
              "      <td>734</td>\n",
              "      <td>3.1250</td>\n",
              "      <td>95.5729</td>\n",
              "    </tr>\n",
              "    <tr>\n",
              "      <th>11</th>\n",
              "      <td>11</td>\n",
              "      <td>745</td>\n",
              "      <td>1.4323</td>\n",
              "      <td>97.0052</td>\n",
              "    </tr>\n",
              "    <tr>\n",
              "      <th>13</th>\n",
              "      <td>10</td>\n",
              "      <td>755</td>\n",
              "      <td>1.3021</td>\n",
              "      <td>98.3073</td>\n",
              "    </tr>\n",
              "    <tr>\n",
              "      <th>12</th>\n",
              "      <td>9</td>\n",
              "      <td>764</td>\n",
              "      <td>1.1719</td>\n",
              "      <td>99.4792</td>\n",
              "    </tr>\n",
              "    <tr>\n",
              "      <th>14</th>\n",
              "      <td>2</td>\n",
              "      <td>766</td>\n",
              "      <td>0.2604</td>\n",
              "      <td>99.7396</td>\n",
              "    </tr>\n",
              "    <tr>\n",
              "      <th>15</th>\n",
              "      <td>1</td>\n",
              "      <td>767</td>\n",
              "      <td>0.1302</td>\n",
              "      <td>99.8698</td>\n",
              "    </tr>\n",
              "    <tr>\n",
              "      <th>17</th>\n",
              "      <td>1</td>\n",
              "      <td>768</td>\n",
              "      <td>0.1302</td>\n",
              "      <td>100.0000</td>\n",
              "    </tr>\n",
              "  </tbody>\n",
              "</table>\n",
              "</div>"
            ],
            "text/plain": [
              "    Frec_abs  frec_abs_acum  frec_rel_%  frec_rel_%_acum\n",
              "1        135            135     17.5781          17.5781\n",
              "0        111            246     14.4531          32.0312\n",
              "2        103            349     13.4115          45.4427\n",
              "3         75            424      9.7656          55.2083\n",
              "4         68            492      8.8542          64.0625\n",
              "5         57            549      7.4219          71.4844\n",
              "6         50            599      6.5104          77.9948\n",
              "7         45            644      5.8594          83.8542\n",
              "8         38            682      4.9479          88.8021\n",
              "9         28            710      3.6458          92.4479\n",
              "10        24            734      3.1250          95.5729\n",
              "11        11            745      1.4323          97.0052\n",
              "13        10            755      1.3021          98.3073\n",
              "12         9            764      1.1719          99.4792\n",
              "14         2            766      0.2604          99.7396\n",
              "15         1            767      0.1302          99.8698\n",
              "17         1            768      0.1302         100.0000"
            ]
          },
          "execution_count": 31,
          "metadata": {},
          "output_type": "execute_result"
        }
      ],
      "source": [
        "#Obtenemos los valores de las Frecuencias Relativas\n",
        "Frec_rel_val = frec_df[\"frec_rel_%\"].values\n",
        "\n",
        "#Creamos una lista vacia en donde vamos a guardar las frecuencias relativas acumuladas\n",
        "acum = []\n",
        "\n",
        "#Iniciamos una variable  en la que guardaremos los valores anteriores\n",
        "valor_acum = 0\n",
        "\n",
        "#Recorremos la lista  de las frecuencias relativas para irlas sumando\n",
        "for i in Frec_rel_val:\n",
        "    valor_acum = valor_acum + i\n",
        "    acum.append(valor_acum)\n",
        "    \n",
        "frec_df[\"frec_rel_%_acum\"] = acum\n",
        "frec_df"
      ]
    }
  ],
  "metadata": {
    "kernelspec": {
      "display_name": "Python 3",
      "language": "python",
      "name": "python3"
    },
    "language_info": {
      "codemirror_mode": {
        "name": "ipython",
        "version": 3
      },
      "file_extension": ".py",
      "mimetype": "text/x-python",
      "name": "python",
      "nbconvert_exporter": "python",
      "pygments_lexer": "ipython3",
      "version": "3.8.5"
    },
    "varInspector": {
      "cols": {
        "lenName": 16,
        "lenType": 16,
        "lenVar": 40
      },
      "kernels_config": {
        "python": {
          "delete_cmd_postfix": "",
          "delete_cmd_prefix": "del ",
          "library": "var_list.py",
          "varRefreshCmd": "print(var_dic_list())"
        },
        "r": {
          "delete_cmd_postfix": ") ",
          "delete_cmd_prefix": "rm(",
          "library": "var_list.r",
          "varRefreshCmd": "cat(var_dic_list()) "
        }
      },
      "types_to_exclude": [
        "module",
        "function",
        "builtin_function_or_method",
        "instance",
        "_Feature"
      ],
      "window_display": false
    },
    "colab": {
      "name": "Copia de Ejemplo 1 - Análisis Univariado de Datos (CoderHouse).ipynb",
      "provenance": []
    }
  },
  "nbformat": 4,
  "nbformat_minor": 0
}