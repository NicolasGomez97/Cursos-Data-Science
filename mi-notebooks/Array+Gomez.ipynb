{
  "nbformat": 4,
  "nbformat_minor": 0,
  "metadata": {
    "colab": {
      "name": "Array+Gomez",
      "provenance": []
    },
    "kernelspec": {
      "name": "python3",
      "display_name": "Python 3"
    },
    "language_info": {
      "name": "python"
    }
  },
  "cells": [
    {
      "cell_type": "markdown",
      "metadata": {
        "id": "zDcMJdhu57TX"
      },
      "source": [
        "# Ejercicio 1"
      ]
    },
    {
      "cell_type": "code",
      "metadata": {
        "id": "ugDHd2WZ3KJ0"
      },
      "source": [
        "# Importamo libreria\n",
        "import numpy as np"
      ],
      "execution_count": 1,
      "outputs": []
    },
    {
      "cell_type": "code",
      "metadata": {
        "id": "nk4vRlGW3dzo"
      },
      "source": [
        "#Generamos Array aleatorio con la funcion numpy de 100 valor, hasta 100.\n",
        "array_aleatorio = np.random.randint(100,size=100)\n",
        "array_aleatorio"
      ],
      "execution_count": 21,
      "outputs": []
    },
    {
      "cell_type": "code",
      "metadata": {
        "colab": {
          "base_uri": "https://localhost:8080/"
        },
        "id": "vH_Snltu3puf",
        "outputId": "3a2190f0-12d2-422e-9099-cbcd42eca2d7"
      },
      "source": [
        "#Usamos la función de numpy para sacar la media del array\n",
        "array_aleatorio_media = np.median(array_aleatorio)\n",
        "array_aleatorio_media"
      ],
      "execution_count": 20,
      "outputs": [
        {
          "output_type": "execute_result",
          "data": {
            "text/plain": [
              "45.0"
            ]
          },
          "metadata": {},
          "execution_count": 20
        }
      ]
    },
    {
      "cell_type": "markdown",
      "metadata": {
        "id": "vzsTFsjW7F9H"
      },
      "source": [
        "# Ejercicio 2"
      ]
    },
    {
      "cell_type": "code",
      "metadata": {
        "id": "D2l7zvuNHgFX"
      },
      "source": [
        "\"\"\"\n",
        "def factorial(x): #Definimos Función factorial\n",
        "    factorial_total=1 #variable para guardar el valor\n",
        "    while x>1:# Mientra se cumpla que x se mayor a 1, se va ejecutar el while.\n",
        "        factorial_total *= x #Multipla x por el número que se asigno antes a la variable.\n",
        "        x -=1 # Va descontando X para que sea menor a uno y se cumpla la regla de fatorial\n",
        "    return factorial_total #Return de la variable\n",
        "\n",
        "factorial(5) #probamos el codigo :) \n",
        "\"\"\"\n",
        "def factorial(x):#Definomos Función factorial\n",
        "  import numpy as np  # Importamo libreria\n",
        "  array_factorail = np.arange(1,x+1) #Definimos la variable array, con la función de numpy.\n",
        "  array_factorail = array_factorail[::-1] #Invertimos la variable array.\n",
        "  factorial_total=1\n",
        "  for i in array_factorail: # Usamos el for para recorrer la el array.\n",
        "    factorial_total *= i\n",
        "  return factorial_total"
      ],
      "execution_count": 42,
      "outputs": []
    },
    {
      "cell_type": "code",
      "metadata": {
        "colab": {
          "base_uri": "https://localhost:8080/"
        },
        "id": "LPx1rnYaAfsn",
        "outputId": "4417e304-292e-4371-df23-6a0f6654be99"
      },
      "source": [
        "print(factorial(5))"
      ],
      "execution_count": 43,
      "outputs": [
        {
          "output_type": "stream",
          "name": "stdout",
          "text": [
            "120\n"
          ]
        }
      ]
    },
    {
      "cell_type": "code",
      "metadata": {
        "id": "bHQlbMe1-Cb4"
      },
      "source": [
        "\"\"\"\n",
        "def sumar(a,b): #Definimos la función sumar\n",
        "            sumNumero=0 # Variable para guardar la suma de una serie\n",
        "            for i in (range(a,b+1)):#For para hacer una serie de números de un número cualquiera hasta otro\n",
        "                sumNumero +=i\n",
        "            return print(sumNumero) #Return de la variable\n",
        "        \n",
        "def mayor(a,b): #Definimos el función mayor\n",
        "    if b>a: #Usamos el if para condicionar que el segundo número sea mayor al primero\n",
        "        return sumar(a,b) #Ejecutamos la función sumar. Se cumple la condición el segundo número es mayor que el primero.\n",
        "    else:\n",
        "        return \"El segundo número no es mayor\" #Return de un mensaje, que no se cumple la condición.\n",
        "\"\"\"\n",
        "def suma_mayo(a,b): #Definimos la función\n",
        "  import numpy as np  # Importamo libreria\n",
        "  if b>a:\n",
        "    array_factorail = np.arange(a,b+1)\n",
        "    sumNumero=0 # Variable para guardar la suma de una serie\n",
        "    for i in (range(a,b+1)):#For para hacer una serie de números de un número cualquiera hasta otro\n",
        "      sumNumero +=i\n",
        "    return print(sumNumero) #Return de la variable\n",
        "  else:\n",
        "    return print(\"El primer numero ingresado es mayor que el segundo numero ingresado\")  "
      ],
      "execution_count": 44,
      "outputs": []
    },
    {
      "cell_type": "code",
      "metadata": {
        "colab": {
          "base_uri": "https://localhost:8080/"
        },
        "id": "gP_DMzIQFze3",
        "outputId": "ee7d9ae1-0b72-43fd-ae14-1f33f93c1b04"
      },
      "source": [
        "suma_mayo(5,10)"
      ],
      "execution_count": 46,
      "outputs": [
        {
          "output_type": "stream",
          "name": "stdout",
          "text": [
            "45\n"
          ]
        }
      ]
    },
    {
      "cell_type": "markdown",
      "metadata": {
        "id": "FtavmzVSGC8m"
      },
      "source": [
        "# Ejercicio 3"
      ]
    },
    {
      "cell_type": "code",
      "metadata": {
        "colab": {
          "base_uri": "https://localhost:8080/"
        },
        "id": "bbdrAOvI-LUW",
        "outputId": "0384cc4a-d342-4f51-9504-04a316b96b51"
      },
      "source": [
        "import numpy as np  # Importamo libreria\n",
        "array_sueldos_neto = np.array([43000,63000,127000,102000,106000,44000,62400,37500,75000,39000,36800,94621]) #Definimos variable array con los sueldos seleccionados.\n",
        "array_sueldos_neto"
      ],
      "execution_count": 50,
      "outputs": [
        {
          "output_type": "execute_result",
          "data": {
            "text/plain": [
              "array([ 43000,  63000, 127000, 102000, 106000,  44000,  62400,  37500,\n",
              "        75000,  39000,  36800,  94621])"
            ]
          },
          "metadata": {},
          "execution_count": 50
        }
      ]
    },
    {
      "cell_type": "code",
      "metadata": {
        "colab": {
          "base_uri": "https://localhost:8080/"
        },
        "id": "RgKA2gKC_A03",
        "outputId": "45b2b92d-22c3-4734-8fc0-5618436b0c48"
      },
      "source": [
        "# La media(promedio) del sueldo \n",
        "array_sueldos_neto.mean()"
      ],
      "execution_count": 53,
      "outputs": [
        {
          "output_type": "execute_result",
          "data": {
            "text/plain": [
              "69193.41666666667"
            ]
          },
          "metadata": {},
          "execution_count": 53
        }
      ]
    },
    {
      "cell_type": "code",
      "metadata": {
        "colab": {
          "base_uri": "https://localhost:8080/"
        },
        "id": "IMuINOhcJXyo",
        "outputId": "eaa5976a-7b4b-4f43-e763-f72691c462f2"
      },
      "source": [
        "# La mediana del sueldo \n",
        "np.median(array_sueldos_neto)"
      ],
      "execution_count": 52,
      "outputs": [
        {
          "output_type": "execute_result",
          "data": {
            "text/plain": [
              "62700.0"
            ]
          },
          "metadata": {},
          "execution_count": 52
        }
      ]
    },
    {
      "cell_type": "code",
      "metadata": {
        "id": "ZtjKmsuHJwuO"
      },
      "source": [
        "# El sueldo maximo\n",
        "array_sueldos_neto.max()"
      ],
      "execution_count": null,
      "outputs": []
    },
    {
      "cell_type": "code",
      "metadata": {
        "colab": {
          "base_uri": "https://localhost:8080/"
        },
        "id": "FEN9M5MqPkKf",
        "outputId": "ff71aec2-4886-41d1-c76f-31c83577ab54"
      },
      "source": [
        "dif = array_sueldos_neto.mean() - np.median(array_sueldos_neto) #Diferencia\n",
        "print(f\"Entre la media y la mediana hay una diferencia de {dif}\")"
      ],
      "execution_count": 54,
      "outputs": [
        {
          "output_type": "stream",
          "name": "stdout",
          "text": [
            "Entre la media y la mediana hay una diferencia de 6493.4166666666715\n"
          ]
        }
      ]
    }
  ]
}