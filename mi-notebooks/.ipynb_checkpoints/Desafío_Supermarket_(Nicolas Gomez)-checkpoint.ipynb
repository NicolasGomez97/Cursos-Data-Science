{
 "cells": [
  {
   "cell_type": "code",
   "execution_count": null,
   "metadata": {},
   "outputs": [],
   "source": [
    "!pip install google-colab"
   ]
  },
  {
   "cell_type": "code",
   "execution_count": 1,
   "metadata": {
    "scrolled": true
   },
   "outputs": [
    {
     "ename": "ModuleNotFoundError",
     "evalue": "No module named 'google.colab'",
     "output_type": "error",
     "traceback": [
      "\u001b[1;31m---------------------------------------------------------------------------\u001b[0m",
      "\u001b[1;31mModuleNotFoundError\u001b[0m                       Traceback (most recent call last)",
      "\u001b[1;32m<ipython-input-1-d5df0069828e>\u001b[0m in \u001b[0;36m<module>\u001b[1;34m\u001b[0m\n\u001b[1;32m----> 1\u001b[1;33m \u001b[1;32mfrom\u001b[0m \u001b[0mgoogle\u001b[0m\u001b[1;33m.\u001b[0m\u001b[0mcolab\u001b[0m \u001b[1;32mimport\u001b[0m \u001b[0mdrive\u001b[0m\u001b[1;33m\u001b[0m\u001b[1;33m\u001b[0m\u001b[0m\n\u001b[0m\u001b[0;32m      2\u001b[0m \u001b[0mdrive\u001b[0m\u001b[1;33m.\u001b[0m\u001b[0mmount\u001b[0m\u001b[1;33m(\u001b[0m\u001b[1;34m'/content/drive'\u001b[0m\u001b[1;33m)\u001b[0m\u001b[1;33m\u001b[0m\u001b[1;33m\u001b[0m\u001b[0m\n",
      "\u001b[1;31mModuleNotFoundError\u001b[0m: No module named 'google.colab'"
     ]
    }
   ],
   "source": [
    "from google.colab import drive\n",
    "drive.mount('/content/drive')"
   ]
  },
  {
   "cell_type": "code",
   "execution_count": null,
   "metadata": {
    "id": "WDVg2Nubj4YF"
   },
   "outputs": [],
   "source": [
    "#Importamos las librerias\n",
    "import numpy as np\n",
    "import pandas as pd\n",
    "from matplotlib import pyplot as plt\n",
    "import seaborn as sns\n",
    "import pandas_profiling"
   ]
  },
  {
   "cell_type": "code",
   "execution_count": null,
   "metadata": {
    "id": "YkIi5A6lj4YH"
   },
   "outputs": [],
   "source": [
    "#Importemos el archivo: supermarket_sales.csv\n",
    "\n",
    "#Completar"
   ]
  },
  {
   "cell_type": "code",
   "execution_count": null,
   "metadata": {
    "id": "gUVhz8S5j4YH"
   },
   "outputs": [],
   "source": [
    "#Head del df\n",
    "\n",
    "#Completar"
   ]
  },
  {
   "cell_type": "code",
   "execution_count": null,
   "metadata": {
    "id": "81P7D9BWj4YH"
   },
   "outputs": [],
   "source": [
    "#Veamos el shape\n",
    "\n",
    "#Completar"
   ]
  },
  {
   "cell_type": "code",
   "execution_count": null,
   "metadata": {
    "id": "ikyEtDgkj4YI"
   },
   "outputs": [],
   "source": [
    "#Totalidad de registros por columnas\n",
    "\n",
    "#Completar"
   ]
  },
  {
   "cell_type": "code",
   "execution_count": null,
   "metadata": {
    "id": "s73KxFXHj4YI"
   },
   "outputs": [],
   "source": [
    "#Tipo de dato de cada columna\n",
    "\n",
    "#Completar"
   ]
  },
  {
   "cell_type": "code",
   "execution_count": null,
   "metadata": {
    "id": "G7KHxrcxj4YI"
   },
   "outputs": [],
   "source": [
    "#Principales medidas estadisticas\n",
    "\n",
    "#Completar"
   ]
  },
  {
   "cell_type": "code",
   "execution_count": null,
   "metadata": {
    "id": "oBI7Ncwtj4YI"
   },
   "outputs": [],
   "source": [
    "#Data Profiling\n",
    "\n",
    "#Completar"
   ]
  },
  {
   "cell_type": "markdown",
   "metadata": {
    "id": "vmXIZtjZj4YJ"
   },
   "source": [
    "Ahora bien, a través del uso del Análisis Bivariado, trataremos de responder una serie de preguntas de negocio."
   ]
  },
  {
   "cell_type": "markdown",
   "metadata": {
    "id": "gF1EG-I5j4YK"
   },
   "source": [
    "1. ¿Los ingresos brutos afectan las calificaciones que brindan los clientes?"
   ]
  },
  {
   "cell_type": "markdown",
   "metadata": {
    "id": "sxPK5qFdj4YL"
   },
   "source": [
    "Podemos usar el diagrama de dispersión para responder a esta pregunta."
   ]
  },
  {
   "cell_type": "code",
   "execution_count": null,
   "metadata": {
    "id": "ryAiqF0Tj4YM"
   },
   "outputs": [],
   "source": [
    "#Las variables a utilizar son: Rating y gross income\n",
    "\n",
    "#Completar"
   ]
  },
  {
   "cell_type": "markdown",
   "metadata": {
    "id": "_Inte2B8j4YN"
   },
   "source": [
    "**Respuesta**: Completar."
   ]
  },
  {
   "cell_type": "markdown",
   "metadata": {
    "id": "z_-8VTaij4YN"
   },
   "source": [
    "2. ¿Qué rama es la más rentable?"
   ]
  },
  {
   "cell_type": "code",
   "execution_count": null,
   "metadata": {
    "id": "x9GzKXGkj4YO"
   },
   "outputs": [],
   "source": [
    "#Las variables a utilizar son: Branch y gross income\n",
    "\n",
    "#Completar"
   ]
  },
  {
   "cell_type": "markdown",
   "metadata": {
    "id": "MFWTmmjnj4YQ"
   },
   "source": [
    "**Respuesta**: Completar."
   ]
  },
  {
   "cell_type": "markdown",
   "metadata": {
    "id": "d5hMA6rgj4YQ"
   },
   "source": [
    "3. ¿Existe alguna relación entre género e ingreso bruto?"
   ]
  },
  {
   "cell_type": "markdown",
   "metadata": {
    "id": "WW8V4-Acj4YQ"
   },
   "source": [
    "De manera similar al análisis anterior, podemos usar un diagrama de caja para responder a esta pregunta."
   ]
  },
  {
   "cell_type": "code",
   "execution_count": null,
   "metadata": {
    "id": "G518Es4gj4YR"
   },
   "outputs": [],
   "source": [
    "#Las variables a utilizar son: Gender y gross income\n",
    "\n",
    "#Completar"
   ]
  },
  {
   "cell_type": "markdown",
   "metadata": {
    "id": "7PK6qmxxj4YR"
   },
   "source": [
    "**Respuesta** : Completar."
   ]
  },
  {
   "cell_type": "markdown",
   "metadata": {
    "id": "qZ8XoLynj4YR"
   },
   "source": [
    "4. ¿Qué línea de productos genera más ingresos?"
   ]
  },
  {
   "cell_type": "code",
   "execution_count": null,
   "metadata": {
    "id": "E-X2JR5gj4YR"
   },
   "outputs": [],
   "source": [
    "#Aclaración: Se deberá descomentar el código comentado para la realización del ejercicio.\n",
    "\n",
    "#cat = df[[\"Product line\", \"gross income\"]].groupby(['Product line'], as_index=False).sum().sort_values(by='gross income', ascending=False)\n",
    "\n",
    "#plt.figure(figsize=(20,8))\n",
    "\n",
    "#Completar con un barplot de seaborn entre x='Product line' e y='gross income'"
   ]
  },
  {
   "cell_type": "markdown",
   "metadata": {
    "id": "mk-O52cdj4YS"
   },
   "source": [
    "**Respuesta** : Completar."
   ]
  }
 ],
 "metadata": {
  "colab": {
   "name": "Desafío - Supermarket (Alumnos).ipynb",
   "provenance": []
  },
  "kernelspec": {
   "display_name": "Python 3",
   "language": "python",
   "name": "python3"
  },
  "language_info": {
   "codemirror_mode": {
    "name": "ipython",
    "version": 3
   },
   "file_extension": ".py",
   "mimetype": "text/x-python",
   "name": "python",
   "nbconvert_exporter": "python",
   "pygments_lexer": "ipython3",
   "version": "3.8.5"
  },
  "varInspector": {
   "cols": {
    "lenName": 16,
    "lenType": 16,
    "lenVar": 40
   },
   "kernels_config": {
    "python": {
     "delete_cmd_postfix": "",
     "delete_cmd_prefix": "del ",
     "library": "var_list.py",
     "varRefreshCmd": "print(var_dic_list())"
    },
    "r": {
     "delete_cmd_postfix": ") ",
     "delete_cmd_prefix": "rm(",
     "library": "var_list.r",
     "varRefreshCmd": "cat(var_dic_list()) "
    }
   },
   "types_to_exclude": [
    "module",
    "function",
    "builtin_function_or_method",
    "instance",
    "_Feature"
   ],
   "window_display": false
  }
 },
 "nbformat": 4,
 "nbformat_minor": 1
}
